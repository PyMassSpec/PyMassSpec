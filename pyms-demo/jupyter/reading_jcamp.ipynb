{
 "cells": [
  {
   "cell_type": "markdown",
   "metadata": {
    "collapsed": false,
    "pycharm": {
     "name": "#%% md\n"
    }
   },
   "source": [
    "# Example: Reading JCAMP GC-MS data\n",
    "\n",
    "The PyMS package |pyms.GCMS.IO.JCAMP| provides capabilities to read the raw \n",
    "GC-MS data stored in the JCAMP-DX format.\n",
    "\n",
    "\n",
    "First, setup the paths to the datafile and the output directory, \n",
    "then import JCAMP_reader."
   ]
  },
  {
   "cell_type": "code",
   "execution_count": 1,
   "metadata": {
    "execution": {
     "iopub.execute_input": "2020-10-16T14:07:06.339249Z",
     "iopub.status.busy": "2020-10-16T14:07:06.338020Z",
     "iopub.status.idle": "2020-10-16T14:07:06.424062Z",
     "shell.execute_reply": "2020-10-16T14:07:06.424416Z"
    },
    "pycharm": {
     "is_executing": false,
     "name": "#%%\n"
    }
   },
   "outputs": [],
   "source": [
    "import pathlib\n",
    "data_directory = pathlib.Path(\".\").resolve().parent.parent / \"pyms-data\"\n",
    "# Change this if the data files are stored in a different location\n",
    "\n",
    "output_directory = pathlib.Path(\".\").resolve() / \"output\"\n",
    "\n",
    "from pyms.GCMS.IO.JCAMP import JCAMP_reader"
   ]
  },
  {
   "cell_type": "markdown",
   "metadata": {
    "collapsed": false,
    "pycharm": {
     "name": "#%% md\n"
    }
   },
   "source": [
    "Read the raw JCAMP-dx data."
   ]
  },
  {
   "cell_type": "code",
   "execution_count": 2,
   "metadata": {
    "execution": {
     "iopub.execute_input": "2020-10-16T14:07:06.427979Z",
     "iopub.status.busy": "2020-10-16T14:07:06.427346Z",
     "iopub.status.idle": "2020-10-16T14:07:07.555256Z",
     "shell.execute_reply": "2020-10-16T14:07:07.554193Z"
    },
    "pycharm": {
     "is_executing": false,
     "name": "#%%\n"
    }
   },
   "outputs": [
    {
     "name": "stdout",
     "output_type": "stream",
     "text": [
      " -> Reading JCAMP file '/home/vagrant/PyMassSpec/pyms-data/gc01_0812_066.jdx'\n"
     ]
    },
    {
     "data": {
      "text/plain": [
       "GCMS_data(rt range 305.582 - 4007.722, time_step 0.3753183292781833, length 9865)"
      ]
     },
     "execution_count": 1,
     "metadata": {},
     "output_type": "execute_result"
    }
   ],
   "source": [
    "jcamp_file = data_directory / \"gc01_0812_066.jdx\"\n",
    "data = JCAMP_reader(jcamp_file)\n",
    "data"
   ]
  },
  {
   "cell_type": "markdown",
   "metadata": {
    "collapsed": false,
    "pycharm": {
     "name": "#%% md\n"
    }
   },
   "source": [
    "### A GCMS_data Object\n",
    "\n",
    "The object ``data`` (from the two previous examples) stores the raw data as a\n",
    "|pyms.GCMS.Class.GCMS_data| object. \n",
    "Within the |GCMS_data|\n",
    "object, raw data are stored as a list of \n",
    "|pyms.Spectrum.Scan| objects and a list of \n",
    "retention times. There are several methods available to access data and \n",
    "attributes of the |GCMS_data|\n",
    "and |Scan| objects.\n",
    "\n",
    "The |GCMS_data| object's methods relate to the raw data. \n",
    "The main properties relate to the masses, retention times and scans. For example, the\n",
    "minimum and maximum mass from all of the raw data can be returned by the\n",
    "following:"
   ]
  },
  {
   "cell_type": "code",
   "execution_count": 3,
   "metadata": {
    "execution": {
     "iopub.execute_input": "2020-10-16T14:07:07.560202Z",
     "iopub.status.busy": "2020-10-16T14:07:07.559665Z",
     "iopub.status.idle": "2020-10-16T14:07:07.642055Z",
     "shell.execute_reply": "2020-10-16T14:07:07.641318Z"
    },
    "pycharm": {
     "is_executing": false,
     "name": "#%%\n"
    }
   },
   "outputs": [
    {
     "data": {
      "text/plain": [
       "50.0"
      ]
     },
     "execution_count": 1,
     "metadata": {},
     "output_type": "execute_result"
    }
   ],
   "source": [
    "data.min_mass\n"
   ]
  },
  {
   "cell_type": "code",
   "execution_count": 4,
   "metadata": {
    "execution": {
     "iopub.execute_input": "2020-10-16T14:07:07.648146Z",
     "iopub.status.busy": "2020-10-16T14:07:07.647562Z",
     "iopub.status.idle": "2020-10-16T14:07:07.653703Z",
     "shell.execute_reply": "2020-10-16T14:07:07.653228Z"
    },
    "pycharm": {
     "is_executing": false,
     "name": "#%% \n"
    }
   },
   "outputs": [
    {
     "data": {
      "text/plain": [
       "599.9"
      ]
     },
     "execution_count": 1,
     "metadata": {},
     "output_type": "execute_result"
    }
   ],
   "source": [
    "data.max_mass"
   ]
  },
  {
   "cell_type": "markdown",
   "metadata": {
    "collapsed": false,
    "pycharm": {
     "name": "#%% md\n"
    }
   },
   "source": [
    "A list of the first 10 retention times can be returned with:"
   ]
  },
  {
   "cell_type": "code",
   "execution_count": 5,
   "metadata": {
    "execution": {
     "iopub.execute_input": "2020-10-16T14:07:07.659178Z",
     "iopub.status.busy": "2020-10-16T14:07:07.658592Z",
     "iopub.status.idle": "2020-10-16T14:07:07.661715Z",
     "shell.execute_reply": "2020-10-16T14:07:07.662278Z"
    },
    "pycharm": {
     "is_executing": false,
     "name": "#%%\n"
    }
   },
   "outputs": [
    {
     "data": {
      "text/plain": [
       "[305.582,\n",
       " 305.958,\n",
       " 306.333,\n",
       " 306.708,\n",
       " 307.084,\n",
       " 307.459,\n",
       " 307.834,\n",
       " 308.21,\n",
       " 308.585,\n",
       " 308.96]"
      ]
     },
     "execution_count": 1,
     "metadata": {},
     "output_type": "execute_result"
    }
   ],
   "source": [
    "data.time_list[:10]"
   ]
  },
  {
   "cell_type": "markdown",
   "metadata": {
    "collapsed": false,
    "pycharm": {
     "name": "#%% md\n"
    }
   },
   "source": [
    "The index of a specific retention time (in seconds) can be returned with:\n"
   ]
  },
  {
   "cell_type": "code",
   "execution_count": 6,
   "metadata": {
    "execution": {
     "iopub.execute_input": "2020-10-16T14:07:07.670937Z",
     "iopub.status.busy": "2020-10-16T14:07:07.670366Z",
     "iopub.status.idle": "2020-10-16T14:07:07.673189Z",
     "shell.execute_reply": "2020-10-16T14:07:07.673651Z"
    },
    "pycharm": {
     "is_executing": false,
     "name": "#%%\n"
    }
   },
   "outputs": [
    {
     "data": {
      "text/plain": [
       "252"
      ]
     },
     "execution_count": 1,
     "metadata": {},
     "output_type": "execute_result"
    }
   ],
   "source": [
    "data.get_index_at_time(400.0)"
   ]
  },
  {
   "cell_type": "markdown",
   "metadata": {
    "collapsed": false,
    "pycharm": {
     "name": "#%% md\n"
    }
   },
   "source": [
    "Note that this returns the index of the retention time in the\n",
    "data closest to the given retention time of 400.0 seconds.\n",
    "\n",
    "The |GCMS_data.tic| attribute\n",
    "returns a total ion chromatogram (TIC) of the data\n",
    "as an |IonChromatogram| object:"
   ]
  },
  {
   "cell_type": "code",
   "execution_count": 7,
   "metadata": {
    "execution": {
     "iopub.execute_input": "2020-10-16T14:07:07.679085Z",
     "iopub.status.busy": "2020-10-16T14:07:07.677785Z",
     "iopub.status.idle": "2020-10-16T14:07:07.680966Z",
     "shell.execute_reply": "2020-10-16T14:07:07.681429Z"
    },
    "pycharm": {
     "is_executing": false,
     "name": "#%%\n"
    }
   },
   "outputs": [
    {
     "data": {
      "text/plain": [
       "<pyms.IonChromatogram.IonChromatogram at 0x7f1252787390>"
      ]
     },
     "execution_count": 1,
     "metadata": {},
     "output_type": "execute_result"
    }
   ],
   "source": [
    "data.tic"
   ]
  },
  {
   "cell_type": "markdown",
   "metadata": {
    "collapsed": false,
    "pycharm": {
     "name": "#%% md\n"
    }
   },
   "source": [
    "The |IonChromatogram| object is explained in a later example.\n",
    "\n",
    "### A Scan Object\n",
    "\n",
    "A |pyms.Spectrum.Scan| object contains a list of masses and a corresponding list of intensity values \n",
    "from a single mass-spectrum scan in the raw data. Typically only non-zero (or non-threshold) intensities and \n",
    "corresponding masses are stored in the raw data.\n",
    "\n",
    "A list of the first 10 |pyms.Spectrum.Scan| objects can be returned with:"
   ]
  },
  {
   "cell_type": "code",
   "execution_count": 8,
   "metadata": {
    "execution": {
     "iopub.execute_input": "2020-10-16T14:07:07.713161Z",
     "iopub.status.busy": "2020-10-16T14:07:07.695663Z",
     "iopub.status.idle": "2020-10-16T14:07:08.005242Z",
     "shell.execute_reply": "2020-10-16T14:07:08.005968Z"
    },
    "pycharm": {
     "is_executing": false,
     "name": "#%%\n"
    }
   },
   "outputs": [
    {
     "data": {
      "text/plain": [
       "[<pyms.Spectrum.Scan at 0x7f12527871d0>,\n",
       " <pyms.Spectrum.Scan at 0x7f1252787518>,\n",
       " <pyms.Spectrum.Scan at 0x7f12527875c0>,\n",
       " <pyms.Spectrum.Scan at 0x7f1252787668>,\n",
       " <pyms.Spectrum.Scan at 0x7f1252787710>,\n",
       " <pyms.Spectrum.Scan at 0x7f12527877b8>,\n",
       " <pyms.Spectrum.Scan at 0x7f1252787860>,\n",
       " <pyms.Spectrum.Scan at 0x7f1252787908>,\n",
       " <pyms.Spectrum.Scan at 0x7f12527879b0>,\n",
       " <pyms.Spectrum.Scan at 0x7f1252787940>]"
      ]
     },
     "execution_count": 1,
     "metadata": {},
     "output_type": "execute_result"
    }
   ],
   "source": [
    "scans = data.scan_list\n",
    "scans[:10]"
   ]
  },
  {
   "cell_type": "markdown",
   "metadata": {
    "collapsed": false,
    "pycharm": {
     "name": "#%% md\n"
    }
   },
   "source": [
    "A list of the first 10 masses in a scan (e.g. the 1st scan) is returned with:"
   ]
  },
  {
   "cell_type": "code",
   "execution_count": 9,
   "metadata": {
    "execution": {
     "iopub.execute_input": "2020-10-16T14:07:08.011292Z",
     "iopub.status.busy": "2020-10-16T14:07:08.010777Z",
     "iopub.status.idle": "2020-10-16T14:07:08.013410Z",
     "shell.execute_reply": "2020-10-16T14:07:08.013068Z"
    },
    "pycharm": {
     "is_executing": false,
     "name": "#%%\n"
    }
   },
   "outputs": [
    {
     "data": {
      "text/plain": [
       "[50.1, 51.1, 53.1, 54.2, 55.1, 56.2, 57.2, 58.2, 59.1, 60.1]"
      ]
     },
     "execution_count": 1,
     "metadata": {},
     "output_type": "execute_result"
    }
   ],
   "source": [
    "scans[0].mass_list[:10]"
   ]
  },
  {
   "cell_type": "markdown",
   "metadata": {
    "collapsed": false,
    "pycharm": {
     "name": "#%% md\n"
    }
   },
   "source": [
    "A list of the first 10 corresponding intensities in a scan is returned with:"
   ]
  },
  {
   "cell_type": "code",
   "execution_count": 10,
   "metadata": {
    "execution": {
     "iopub.execute_input": "2020-10-16T14:07:08.018948Z",
     "iopub.status.busy": "2020-10-16T14:07:08.018249Z",
     "iopub.status.idle": "2020-10-16T14:07:08.021086Z",
     "shell.execute_reply": "2020-10-16T14:07:08.021544Z"
    },
    "pycharm": {
     "is_executing": false,
     "name": "#%%\n"
    }
   },
   "outputs": [
    {
     "data": {
      "text/plain": [
       "[22128.0,\n",
       " 10221.0,\n",
       " 31400.0,\n",
       " 27352.0,\n",
       " 65688.0,\n",
       " 55416.0,\n",
       " 75192.0,\n",
       " 112688.0,\n",
       " 152256.0,\n",
       " 21896.0]"
      ]
     },
     "execution_count": 1,
     "metadata": {},
     "output_type": "execute_result"
    }
   ],
   "source": [
    "scans[0].intensity_list[:10]"
   ]
  },
  {
   "cell_type": "markdown",
   "metadata": {
    "collapsed": false,
    "pycharm": {
     "name": "#%% md\n"
    }
   },
   "source": [
    "The minimum and maximum mass in an individual scan (e.g. the 1st scan) are\n",
    "returned with:"
   ]
  },
  {
   "cell_type": "code",
   "execution_count": 11,
   "metadata": {
    "execution": {
     "iopub.execute_input": "2020-10-16T14:07:08.026551Z",
     "iopub.status.busy": "2020-10-16T14:07:08.025991Z",
     "iopub.status.idle": "2020-10-16T14:07:08.028791Z",
     "shell.execute_reply": "2020-10-16T14:07:08.029291Z"
    },
    "pycharm": {
     "is_executing": false,
     "name": "#%%\n"
    }
   },
   "outputs": [
    {
     "data": {
      "text/plain": [
       "50.1"
      ]
     },
     "execution_count": 1,
     "metadata": {},
     "output_type": "execute_result"
    }
   ],
   "source": [
    "scans[0].min_mass"
   ]
  },
  {
   "cell_type": "code",
   "execution_count": 12,
   "metadata": {
    "execution": {
     "iopub.execute_input": "2020-10-16T14:07:08.036927Z",
     "iopub.status.busy": "2020-10-16T14:07:08.035240Z",
     "iopub.status.idle": "2020-10-16T14:07:08.038834Z",
     "shell.execute_reply": "2020-10-16T14:07:08.038348Z"
    },
    "pycharm": {
     "is_executing": false,
     "name": "#%%\n"
    }
   },
   "outputs": [
    {
     "data": {
      "text/plain": [
       "599.4"
      ]
     },
     "execution_count": 1,
     "metadata": {},
     "output_type": "execute_result"
    }
   ],
   "source": [
    "scans[0].max_mass"
   ]
  },
  {
   "cell_type": "markdown",
   "metadata": {
    "collapsed": false,
    "pycharm": {
     "name": "#%% md\n"
    }
   },
   "source": [
    "### Exporting data and obtaining information about a data set\n",
    "\n",
    "Often it is of interest to find out some basic information about the\n",
    "data set, e.g. the number of scans, the retention time range, and\n",
    "m/z range and so on. The |GCMS_data|\n",
    "class provides a method |info()|\n",
    "that can be used for this purpose."
   ]
  },
  {
   "cell_type": "code",
   "execution_count": 13,
   "metadata": {
    "execution": {
     "iopub.execute_input": "2020-10-16T14:07:08.047128Z",
     "iopub.status.busy": "2020-10-16T14:07:08.046455Z",
     "iopub.status.idle": "2020-10-16T14:07:08.066905Z",
     "shell.execute_reply": "2020-10-16T14:07:08.065531Z"
    },
    "pycharm": {
     "name": "#%%\n"
    }
   },
   "outputs": [
    {
     "name": "stdout",
     "output_type": "stream",
     "text": [
      " Data retention time range: 5.093 min -- 66.795 min\n",
      " Time step: 0.375 s (std=0.000 s)\n",
      " Number of scans: 9865\n",
      " Minimum m/z measured: 50.000\n",
      " Maximum m/z measured: 599.900\n",
      " Mean number of m/z values per scan: 56\n",
      " Median number of m/z values per scan: 40\n"
     ]
    }
   ],
   "source": [
    "data.info()"
   ]
  },
  {
   "cell_type": "markdown",
   "metadata": {
    "collapsed": false
   },
   "source": [
    "The entire raw data of a |GCMS_data| object can be exported to a file\n",
    "with the method |write()|:"
   ]
  },
  {
   "cell_type": "code",
   "execution_count": 14,
   "metadata": {
    "execution": {
     "iopub.execute_input": "2020-10-16T14:07:08.074796Z",
     "iopub.status.busy": "2020-10-16T14:07:08.073991Z",
     "iopub.status.idle": "2020-10-16T14:07:08.718858Z",
     "shell.execute_reply": "2020-10-16T14:07:08.718028Z"
    },
    "pycharm": {
     "is_executing": false,
     "name": "#%%\n"
    }
   },
   "outputs": [
    {
     "name": "stdout",
     "output_type": "stream",
     "text": [
      " -> Writing intensities to '/home/vagrant/PyMassSpec/pyms-demo/jupyter/output/data.I.csv'\n",
      " -> Writing m/z values to '/home/vagrant/PyMassSpec/pyms-demo/jupyter/output/data.mz.csv'\n"
     ]
    }
   ],
   "source": [
    "data.write(output_directory / \"data\")"
   ]
  },
  {
   "cell_type": "markdown",
   "metadata": {
    "collapsed": false,
    "pycharm": {
     "name": "#%% md\n"
    }
   },
   "source": [
    "This method takes the filename (\"output/data\", in this example)\n",
    "and writes two CSV files. One has extension \".I.csv\" and\n",
    "contains the intensities (\"output/data.I.csv\" in this example),\n",
    "and the other has the extension \".mz\" and contains the\n",
    "corresponding table of m/z value (\"output/data.mz.csv\" in\n",
    "this example). In general, these are not two-dimensional matrices,\n",
    "because different scans may have different number of m/z\n",
    "values recorded."
   ]
  }
 ],
 "metadata": {
  "kernelspec": {
   "display_name": "Python 3",
   "language": "python",
   "name": "python3"
  },
  "language_info": {
   "codemirror_mode": {
    "name": "ipython",
    "version": 3
   },
   "file_extension": ".py",
   "mimetype": "text/x-python",
   "name": "python",
   "nbconvert_exporter": "python",
   "pygments_lexer": "ipython3",
   "version": "3.6.9"
  }
 },
 "nbformat": 4,
 "nbformat_minor": 0
}
