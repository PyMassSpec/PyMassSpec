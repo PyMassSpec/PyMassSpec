{
 "cells": [
  {
   "cell_type": "markdown",
   "metadata": {
    "collapsed": false,
    "pycharm": {
     "name": "#%% md\n"
    }
   },
   "source": [
    "# Example: IonChromatogram Objects\n",
    "\n",
    "First, setup the paths to the datafiles and the output directory, then import JCAMP_reader and build_intensity_matrix."
   ]
  },
  {
   "cell_type": "code",
   "execution_count": 1,
   "metadata": {
    "execution": {
     "iopub.execute_input": "2020-10-16T13:56:05.600536Z",
     "iopub.status.busy": "2020-10-16T13:56:05.599465Z",
     "iopub.status.idle": "2020-10-16T13:56:05.727917Z",
     "shell.execute_reply": "2020-10-16T13:56:05.727141Z"
    },
    "pycharm": {
     "is_executing": false,
     "name": "#%%\n"
    }
   },
   "outputs": [],
   "source": [
    "import pathlib\n",
    "data_directory = pathlib.Path(\".\").resolve().parent.parent / \"pyms-data\"\n",
    "# Change this if the data files are stored in a different location\n",
    "\n",
    "output_directory = pathlib.Path(\".\").resolve() / \"output\"\n",
    "\n",
    "from pyms.GCMS.IO.JCAMP import JCAMP_reader\n",
    "from pyms.IntensityMatrix import build_intensity_matrix"
   ]
  },
  {
   "cell_type": "markdown",
   "metadata": {
    "collapsed": false
   },
   "source": [
    "Read the raw data files and create the IntensityMatrix."
   ]
  },
  {
   "cell_type": "code",
   "execution_count": 2,
   "metadata": {
    "execution": {
     "iopub.execute_input": "2020-10-16T13:56:05.733251Z",
     "iopub.status.busy": "2020-10-16T13:56:05.732356Z",
     "iopub.status.idle": "2020-10-16T13:56:07.907796Z",
     "shell.execute_reply": "2020-10-16T13:56:07.906817Z"
    },
    "pycharm": {
     "is_executing": false,
     "name": "#%%\n"
    }
   },
   "outputs": [
    {
     "name": "stdout",
     "output_type": "stream",
     "text": [
      " -> Reading JCAMP file '/home/vagrant/PyMassSpec/pyms-data/gc01_0812_066.jdx'\n"
     ]
    }
   ],
   "source": [
    "jcamp_file = data_directory / \"gc01_0812_066.jdx\"\n",
    "data = JCAMP_reader(jcamp_file)\n",
    "im = build_intensity_matrix(data)"
   ]
  },
  {
   "cell_type": "markdown",
   "metadata": {
    "collapsed": false,
    "pycharm": {
     "name": "#%% md\n"
    }
   },
   "source": [
    "An |IonChromatogram| object is a\n",
    "one dimensional vector containing mass intensities as a function of\n",
    "retention time. This can can be either |m/z| channel intensities\n",
    "(for example, the ion chromatogram at 73 |m/z|), or cumulative\n",
    "intensities over all measured |m/z| (TIC).\n",
    "\n",
    "An |IonChromatogram| object for the\n",
    "TIC can be obtained as follows:"
   ]
  },
  {
   "cell_type": "code",
   "execution_count": 3,
   "metadata": {
    "execution": {
     "iopub.execute_input": "2020-10-16T13:56:07.919460Z",
     "iopub.status.busy": "2020-10-16T13:56:07.918641Z",
     "iopub.status.idle": "2020-10-16T13:56:07.927150Z",
     "shell.execute_reply": "2020-10-16T13:56:07.926601Z"
    },
    "pycharm": {
     "is_executing": false,
     "name": "#%%\n"
    }
   },
   "outputs": [
    {
     "data": {
      "text/plain": [
       "<pyms.IonChromatogram.IonChromatogram at 0x7fe8e5cfc5c0>"
      ]
     },
     "execution_count": 1,
     "metadata": {},
     "output_type": "execute_result"
    }
   ],
   "source": [
    "data.tic"
   ]
  },
  {
   "cell_type": "markdown",
   "metadata": {
    "collapsed": false,
    "pycharm": {
     "name": "#%% md\n"
    }
   },
   "source": [
    "The |IonChromatogram| at index 0 can be obtained with:"
   ]
  },
  {
   "cell_type": "code",
   "execution_count": 4,
   "metadata": {
    "execution": {
     "iopub.execute_input": "2020-10-16T13:56:07.944444Z",
     "iopub.status.busy": "2020-10-16T13:56:07.934978Z",
     "iopub.status.idle": "2020-10-16T13:56:07.954477Z",
     "shell.execute_reply": "2020-10-16T13:56:07.955227Z"
    },
    "pycharm": {
     "is_executing": false,
     "name": "#%%\n"
    }
   },
   "outputs": [
    {
     "data": {
      "text/plain": [
       "<pyms.IonChromatogram.IonChromatogram at 0x7fe9044238d0>"
      ]
     },
     "execution_count": 1,
     "metadata": {},
     "output_type": "execute_result"
    }
   ],
   "source": [
    "im.get_ic_at_index(0)"
   ]
  },
  {
   "cell_type": "markdown",
   "metadata": {
    "collapsed": false,
    "pycharm": {
     "name": "#%% md\n"
    }
   },
   "source": [
    "The |IonChromatogram| for the closest mass to 73 can be obtained with:"
   ]
  },
  {
   "cell_type": "code",
   "execution_count": 5,
   "metadata": {
    "execution": {
     "iopub.execute_input": "2020-10-16T13:56:07.974916Z",
     "iopub.status.busy": "2020-10-16T13:56:07.969127Z",
     "iopub.status.idle": "2020-10-16T13:56:07.983272Z",
     "shell.execute_reply": "2020-10-16T13:56:07.984047Z"
    },
    "pycharm": {
     "is_executing": false,
     "name": "#%%\n"
    }
   },
   "outputs": [
    {
     "data": {
      "text/plain": [
       "<pyms.IonChromatogram.IonChromatogram at 0x7fe90442a9e8>"
      ]
     },
     "execution_count": 1,
     "metadata": {},
     "output_type": "execute_result"
    }
   ],
   "source": [
    "im.get_ic_at_mass(73)"
   ]
  },
  {
   "cell_type": "markdown",
   "metadata": {
    "collapsed": false,
    "pycharm": {
     "is_executing": false,
     "name": "#%% md\n"
    }
   },
   "source": [
    "An ion chromatogram object has a method |is_tic()| which returns ``True`` if\n",
    "the ion chromatogram is a TIC, ``False`` otherwise."
   ]
  },
  {
   "cell_type": "code",
   "execution_count": 6,
   "metadata": {
    "execution": {
     "iopub.execute_input": "2020-10-16T13:56:07.989783Z",
     "iopub.status.busy": "2020-10-16T13:56:07.988353Z",
     "iopub.status.idle": "2020-10-16T13:56:07.991821Z",
     "shell.execute_reply": "2020-10-16T13:56:07.991284Z"
    },
    "pycharm": {
     "is_executing": false,
     "name": "#%%\n"
    }
   },
   "outputs": [
    {
     "data": {
      "text/plain": [
       "True"
      ]
     },
     "execution_count": 1,
     "metadata": {},
     "output_type": "execute_result"
    }
   ],
   "source": [
    "data.tic.is_tic()"
   ]
  },
  {
   "cell_type": "code",
   "execution_count": 7,
   "metadata": {
    "execution": {
     "iopub.execute_input": "2020-10-16T13:56:08.008295Z",
     "iopub.status.busy": "2020-10-16T13:56:07.999238Z",
     "iopub.status.idle": "2020-10-16T13:56:08.018309Z",
     "shell.execute_reply": "2020-10-16T13:56:08.019070Z"
    },
    "pycharm": {
     "is_executing": false,
     "name": "#%%\n"
    }
   },
   "outputs": [
    {
     "data": {
      "text/plain": [
       "False"
      ]
     },
     "execution_count": 1,
     "metadata": {},
     "output_type": "execute_result"
    }
   ],
   "source": [
    "im.get_ic_at_mass(73).is_tic()"
   ]
  }
 ],
 "metadata": {
  "kernelspec": {
   "display_name": "Python 3",
   "language": "python",
   "name": "python3"
  },
  "language_info": {
   "codemirror_mode": {
    "name": "ipython",
    "version": 3
   },
   "file_extension": ".py",
   "mimetype": "text/x-python",
   "name": "python",
   "nbconvert_exporter": "python",
   "pygments_lexer": "ipython3",
   "version": "3.6.9"
  },
  "pycharm": {
   "stem_cell": {
    "cell_type": "raw",
    "metadata": {
     "collapsed": false
    },
    "source": []
   }
  }
 },
 "nbformat": 4,
 "nbformat_minor": 0
}
