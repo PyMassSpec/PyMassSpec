{
 "cells": [
  {
   "cell_type": "markdown",
   "metadata": {
    "collapsed": false,
    "pycharm": {
     "name": "#%% md\n"
    }
   },
   "source": [
    "# Example: IonChromatogram Objects\n",
    "\n",
    "First, setup the paths to the datafiles and the output directory, then import JCAMP_reader and build_intensity_matrix."
   ]
  },
  {
   "cell_type": "code",
   "execution_count": 1,
   "metadata": {
    "execution": {
     "iopub.execute_input": "2020-11-09T17:49:27.092314Z",
     "iopub.status.busy": "2020-11-09T17:49:27.090207Z",
     "iopub.status.idle": "2020-11-09T17:49:27.214480Z",
     "shell.execute_reply": "2020-11-09T17:49:27.213585Z"
    },
    "pycharm": {
     "is_executing": false,
     "name": "#%%\n"
    }
   },
   "outputs": [],
   "source": [
    "import pathlib\n",
    "data_directory = pathlib.Path(\".\").resolve().parent.parent / \"pyms-data\"\n",
    "# Change this if the data files are stored in a different location\n",
    "\n",
    "output_directory = pathlib.Path(\".\").resolve() / \"output\"\n",
    "\n",
    "from pyms.GCMS.IO.JCAMP import JCAMP_reader\n",
    "from pyms.IntensityMatrix import build_intensity_matrix"
   ]
  },
  {
   "cell_type": "markdown",
   "metadata": {
    "collapsed": false
   },
   "source": [
    "Read the raw data files and create the IntensityMatrix."
   ]
  },
  {
   "cell_type": "code",
   "execution_count": 2,
   "metadata": {
    "execution": {
     "iopub.execute_input": "2020-11-09T17:49:27.218903Z",
     "iopub.status.busy": "2020-11-09T17:49:27.217911Z",
     "iopub.status.idle": "2020-11-09T17:49:29.330948Z",
     "shell.execute_reply": "2020-11-09T17:49:29.330582Z"
    },
    "pycharm": {
     "is_executing": false,
     "name": "#%%\n"
    }
   },
   "outputs": [
    {
     "name": "stdout",
     "output_type": "stream",
     "text": [
      " -> Reading JCAMP file '/home/vagrant/PyMassSpec/pyms-data/gc01_0812_066.jdx'\n"
     ]
    }
   ],
   "source": [
    "jcamp_file = data_directory / \"gc01_0812_066.jdx\"\n",
    "data = JCAMP_reader(jcamp_file)\n",
    "im = build_intensity_matrix(data)"
   ]
  },
  {
   "cell_type": "markdown",
   "metadata": {
    "collapsed": false,
    "pycharm": {
     "name": "#%% md\n"
    }
   },
   "source": [
    "An |IonChromatogram| object is a\n",
    "one dimensional vector containing mass intensities as a function of\n",
    "retention time. This can can be either |m/z| channel intensities\n",
    "(for example, the ion chromatogram at 73 |m/z|), or cumulative\n",
    "intensities over all measured |m/z| (TIC).\n",
    "\n",
    "An |IonChromatogram| object for the\n",
    "TIC can be obtained as follows:"
   ]
  },
  {
   "cell_type": "code",
   "execution_count": 3,
   "metadata": {
    "execution": {
     "iopub.execute_input": "2020-11-09T17:49:29.342212Z",
     "iopub.status.busy": "2020-11-09T17:49:29.341466Z",
     "iopub.status.idle": "2020-11-09T17:49:29.473716Z",
     "shell.execute_reply": "2020-11-09T17:49:29.473003Z"
    },
    "pycharm": {
     "is_executing": false,
     "name": "#%%\n"
    }
   },
   "outputs": [
    {
     "data": {
      "text/plain": [
       "<pyms.IonChromatogram.IonChromatogram at 0x7f67e6a08208>"
      ]
     },
     "execution_count": 1,
     "metadata": {},
     "output_type": "execute_result"
    }
   ],
   "source": [
    "data.tic"
   ]
  },
  {
   "cell_type": "markdown",
   "metadata": {
    "collapsed": false,
    "pycharm": {
     "name": "#%% md\n"
    }
   },
   "source": [
    "The |IonChromatogram| at index 0 can be obtained with:"
   ]
  },
  {
   "cell_type": "code",
   "execution_count": 4,
   "metadata": {
    "execution": {
     "iopub.execute_input": "2020-11-09T17:49:29.489631Z",
     "iopub.status.busy": "2020-11-09T17:49:29.481845Z",
     "iopub.status.idle": "2020-11-09T17:49:29.493662Z",
     "shell.execute_reply": "2020-11-09T17:49:29.493288Z"
    },
    "pycharm": {
     "is_executing": false,
     "name": "#%%\n"
    }
   },
   "outputs": [
    {
     "data": {
      "text/plain": [
       "<pyms.IonChromatogram.IonChromatogram at 0x7f6804b8b8d0>"
      ]
     },
     "execution_count": 1,
     "metadata": {},
     "output_type": "execute_result"
    }
   ],
   "source": [
    "im.get_ic_at_index(0)"
   ]
  },
  {
   "cell_type": "markdown",
   "metadata": {
    "collapsed": false,
    "pycharm": {
     "name": "#%% md\n"
    }
   },
   "source": [
    "The |IonChromatogram| for the closest mass to 73 can be obtained with:"
   ]
  },
  {
   "cell_type": "code",
   "execution_count": 5,
   "metadata": {
    "execution": {
     "iopub.execute_input": "2020-11-09T17:49:29.506397Z",
     "iopub.status.busy": "2020-11-09T17:49:29.505972Z",
     "iopub.status.idle": "2020-11-09T17:49:29.510638Z",
     "shell.execute_reply": "2020-11-09T17:49:29.510298Z"
    },
    "pycharm": {
     "is_executing": false,
     "name": "#%%\n"
    }
   },
   "outputs": [
    {
     "data": {
      "text/plain": [
       "<pyms.IonChromatogram.IonChromatogram at 0x7f6804b863c8>"
      ]
     },
     "execution_count": 1,
     "metadata": {},
     "output_type": "execute_result"
    }
   ],
   "source": [
    "im.get_ic_at_mass(73)"
   ]
  },
  {
   "cell_type": "markdown",
   "metadata": {
    "collapsed": false,
    "pycharm": {
     "is_executing": false,
     "name": "#%% md\n"
    }
   },
   "source": [
    "An ion chromatogram object has a method |is_tic()| which returns ``True`` if\n",
    "the ion chromatogram is a TIC, ``False`` otherwise."
   ]
  },
  {
   "cell_type": "code",
   "execution_count": 6,
   "metadata": {
    "execution": {
     "iopub.execute_input": "2020-11-09T17:49:29.513976Z",
     "iopub.status.busy": "2020-11-09T17:49:29.513568Z",
     "iopub.status.idle": "2020-11-09T17:49:29.518224Z",
     "shell.execute_reply": "2020-11-09T17:49:29.517744Z"
    },
    "pycharm": {
     "is_executing": false,
     "name": "#%%\n"
    }
   },
   "outputs": [
    {
     "data": {
      "text/plain": [
       "True"
      ]
     },
     "execution_count": 1,
     "metadata": {},
     "output_type": "execute_result"
    }
   ],
   "source": [
    "data.tic.is_tic()"
   ]
  },
  {
   "cell_type": "code",
   "execution_count": 7,
   "metadata": {
    "execution": {
     "iopub.execute_input": "2020-11-09T17:49:29.533562Z",
     "iopub.status.busy": "2020-11-09T17:49:29.526295Z",
     "iopub.status.idle": "2020-11-09T17:49:29.537922Z",
     "shell.execute_reply": "2020-11-09T17:49:29.537382Z"
    },
    "pycharm": {
     "is_executing": false,
     "name": "#%%\n"
    }
   },
   "outputs": [
    {
     "data": {
      "text/plain": [
       "False"
      ]
     },
     "execution_count": 1,
     "metadata": {},
     "output_type": "execute_result"
    }
   ],
   "source": [
    "im.get_ic_at_mass(73).is_tic()"
   ]
  }
 ],
 "metadata": {
  "kernelspec": {
   "display_name": "Python 3",
   "language": "python",
   "name": "python3"
  },
  "language_info": {
   "codemirror_mode": {
    "name": "ipython",
    "version": 3
   },
   "file_extension": ".py",
   "mimetype": "text/x-python",
   "name": "python",
   "nbconvert_exporter": "python",
   "pygments_lexer": "ipython3",
   "version": "3.6.9"
  },
  "pycharm": {
   "stem_cell": {
    "cell_type": "raw",
    "metadata": {
     "collapsed": false
    },
    "source": []
   }
  }
 },
 "nbformat": 4,
 "nbformat_minor": 0
}
