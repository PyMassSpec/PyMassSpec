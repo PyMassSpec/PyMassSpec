{
 "cells": [
  {
   "cell_type": "markdown",
   "metadata": {
    "collapsed": false,
    "pycharm": {
     "name": "#%% md\n"
    }
   },
   "source": [
    "# Peak Area Estimation\n",
    "\n",
    "The |Peak| object does not contain any information about the width or area of\n",
    "the peak when it is first created. This information can be added after the \n",
    "instantiation of a Peak object. The area of the peak can be set with the \n",
    "attribute |pyms.Peak.Class.Peak.area|.\n",
    "\n",
    "The total peak area can by obtained by the |peak_sum_area()| function in\n",
    "|pyms.Peak.Function|. The function determines the total area as the sum of the\n",
    "ion intensities for all masses that apex at the given peak. To calculate the\n",
    "peak area of a single mass, the intensities are added from the apex of the\n",
    "mass peak outwards.\n",
    "\n",
    "Edge values are added until the following conditions are met:\n",
    "* the added intensity adds less than 0.5\\% to the accumulated area; or\n",
    "* the added intensity starts increasing (i.e. when the ion is common to\n",
    "  co-eluting compounds).\n",
    "\n",
    "To avoid noise effects, the edge value is taken at the midpoint of three consecutive edge values.\n",
    "\n",
    "First, build the Peak list as before"
   ]
  },
  {
   "cell_type": "code",
   "execution_count": 1,
   "metadata": {
    "execution": {
     "iopub.execute_input": "2020-10-16T13:59:12.063311Z",
     "iopub.status.busy": "2020-10-16T13:59:12.062045Z",
     "iopub.status.idle": "2020-10-16T14:00:04.392418Z",
     "shell.execute_reply": "2020-10-16T14:00:04.392039Z"
    },
    "pycharm": {
     "name": "#%%\n"
    }
   },
   "outputs": [
    {
     "name": "stdout",
     "output_type": "stream",
     "text": [
      " -> Reading JCAMP file '/home/vagrant/PyMassSpec/pyms-data/gc01_0812_066.jdx'\n"
     ]
    },
    {
     "data": {
      "text/plain": [
       "[<pyms.Peak.Class.Peak at 0x7f04deeacba8>,\n",
       " <pyms.Peak.Class.Peak at 0x7f04deeacc88>,\n",
       " <pyms.Peak.Class.Peak at 0x7f04deeacd30>,\n",
       " <pyms.Peak.Class.Peak at 0x7f04deeacdd8>,\n",
       " <pyms.Peak.Class.Peak at 0x7f04deeace80>,\n",
       " <pyms.Peak.Class.Peak at 0x7f04deeacf28>,\n",
       " <pyms.Peak.Class.Peak at 0x7f04e6b3a048>,\n",
       " <pyms.Peak.Class.Peak at 0x7f04e6b3a0b8>,\n",
       " <pyms.Peak.Class.Peak at 0x7f04e6b3a160>,\n",
       " <pyms.Peak.Class.Peak at 0x7f04e6b3a208>]"
      ]
     },
     "execution_count": 1,
     "metadata": {},
     "output_type": "execute_result"
    }
   ],
   "source": [
    "import pathlib\n",
    "data_directory = pathlib.Path(\".\").resolve().parent.parent / \"pyms-data\"\n",
    "# Change this if the data files are stored in a different location\n",
    "\n",
    "output_directory = pathlib.Path(\".\").resolve() / \"output\"\n",
    "\n",
    "from pyms.GCMS.IO.JCAMP import JCAMP_reader\n",
    "from pyms.IntensityMatrix import build_intensity_matrix\n",
    "from pyms.Noise.SavitzkyGolay import savitzky_golay\n",
    "from pyms.TopHat import tophat\n",
    "from pyms.BillerBiemann import BillerBiemann\n",
    "\n",
    "jcamp_file = data_directory / \"gc01_0812_066.jdx\"\n",
    "data = JCAMP_reader(jcamp_file)\n",
    "im = build_intensity_matrix(data)\n",
    "\n",
    "n_scan, n_mz = im.size\n",
    "\n",
    "for ii in range(n_mz):\n",
    "    ic = im.get_ic_at_index(ii)\n",
    "    ic_smooth = savitzky_golay(ic)\n",
    "    ic_bc = tophat(ic_smooth, struct=\"1.5m\")\n",
    "    im.set_ic_at_index(ii, ic_bc)\n",
    "\n",
    "peak_list = BillerBiemann(im, points=9, scans=2)\n",
    "\n",
    "from pyms.Noise.Analysis import window_analyzer\n",
    "tic = data.tic\n",
    "noise_level = window_analyzer(tic)\n",
    "\n",
    "from pyms.BillerBiemann import num_ions_threshold\n",
    "filtered_peak_list = num_ions_threshold(peak_list, n=3, cutoff=noise_level)\n",
    "filtered_peak_list[:10]"
   ]
  },
  {
   "cell_type": "markdown",
   "metadata": {
    "collapsed": false,
    "pycharm": {
     "is_executing": false,
     "name": "#%% md\n"
    }
   },
   "source": [
    "Given a list of peaks, areas can be determined and added as follows:"
   ]
  },
  {
   "cell_type": "code",
   "execution_count": 2,
   "metadata": {
    "execution": {
     "iopub.execute_input": "2020-10-16T14:00:04.398644Z",
     "iopub.status.busy": "2020-10-16T14:00:04.396684Z",
     "iopub.status.idle": "2020-10-16T14:04:21.837323Z",
     "shell.execute_reply": "2020-10-16T14:04:21.836578Z"
    },
    "pycharm": {
     "name": "#%%\n"
    }
   },
   "outputs": [],
   "source": [
    "from pyms.Peak.Function import peak_sum_area\n",
    "for peak in peak_list:\n",
    "    area = peak_sum_area(im, peak)\n",
    "    peak.area = area\n"
   ]
  }
 ],
 "metadata": {
  "kernelspec": {
   "display_name": "Python 3",
   "language": "python",
   "name": "python3"
  },
  "language_info": {
   "codemirror_mode": {
    "name": "ipython",
    "version": 3
   },
   "file_extension": ".py",
   "mimetype": "text/x-python",
   "name": "python",
   "nbconvert_exporter": "python",
   "pygments_lexer": "ipython3",
   "version": "3.6.9"
  }
 },
 "nbformat": 4,
 "nbformat_minor": 0
}
