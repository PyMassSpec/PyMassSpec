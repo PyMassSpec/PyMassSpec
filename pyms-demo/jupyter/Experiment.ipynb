{
 "cells": [
  {
   "cell_type": "markdown",
   "metadata": {
    "collapsed": false,
    "pycharm": {
     "name": "#%% md\n"
    }
   },
   "source": [
    "## Example: Creating an Experiment\n",
    "\n",
    "Before aligning peaks from multiple experiments, the peak objects need to be\n",
    "created and encapsulated into |Experiment| objects. During this process it is\n",
    "often useful to pre-process the peaks in some way, for example to null certain\n",
    "m/z channels and/or to select a certain retention time range.\n",
    "\n",
    "The procedure starts the same as in the previous examples, namely:\n",
    "1. read a file,\n",
    "1. bin the data into fixed mass values,\n",
    "1. smooth the data,\n",
    "1. remove the baseline,\n",
    "1. deconvolute peaks,\n",
    "1. filter the peaks,\n",
    "1. set the mass range,\n",
    "1. remove uninformative ions, and\n",
    "1. estimate peak areas.\n",
    "\n",
    "\n",
    "First, setup the paths to the datafiles and the output directory, then import ANDI_reader and build_intensity_matrix_i."
   ]
  },
  {
   "cell_type": "code",
   "execution_count": 1,
   "metadata": {
    "execution": {
     "iopub.execute_input": "2020-10-16T13:54:59.931556Z",
     "iopub.status.busy": "2020-10-16T13:54:59.929362Z",
     "iopub.status.idle": "2020-10-16T13:55:00.051123Z",
     "shell.execute_reply": "2020-10-16T13:55:00.049902Z"
    },
    "pycharm": {
     "is_executing": false,
     "name": "#%%\n"
    }
   },
   "outputs": [],
   "source": [
    "import pathlib\n",
    "data_directory = pathlib.Path(\".\").resolve().parent.parent / \"pyms-data\"\n",
    "# Change this if the data files are stored in a different location\n",
    "\n",
    "output_directory = pathlib.Path(\".\").resolve() / \"output\"\n",
    "\n",
    "from pyms.GCMS.IO.ANDI import ANDI_reader\n",
    "from pyms.IntensityMatrix import build_intensity_matrix_i"
   ]
  },
  {
   "cell_type": "markdown",
   "metadata": {
    "collapsed": false
   },
   "source": [
    "Read the raw data file and build the |IntensityMatrix|."
   ]
  },
  {
   "cell_type": "code",
   "execution_count": 2,
   "metadata": {
    "execution": {
     "iopub.execute_input": "2020-10-16T13:55:00.058212Z",
     "iopub.status.busy": "2020-10-16T13:55:00.057610Z",
     "iopub.status.idle": "2020-10-16T13:55:02.328208Z",
     "shell.execute_reply": "2020-10-16T13:55:02.327718Z"
    },
    "pycharm": {
     "is_executing": false,
     "name": "#%%\n"
    }
   },
   "outputs": [
    {
     "name": "stdout",
     "output_type": "stream",
     "text": [
      " -> Reading netCDF file '/home/vagrant/PyMassSpec/pyms-data/a0806_077.cdf'\n"
     ]
    }
   ],
   "source": [
    "andi_file = data_directory / \"a0806_077.cdf\"\n",
    "data = ANDI_reader(andi_file)\n",
    "im = build_intensity_matrix_i(data)"
   ]
  },
  {
   "cell_type": "markdown",
   "metadata": {
    "collapsed": false
   },
   "source": [
    "Preprocess the data (Savitzky-Golay smoothing and Tophat baseline detection)"
   ]
  },
  {
   "cell_type": "code",
   "execution_count": 3,
   "metadata": {
    "execution": {
     "iopub.execute_input": "2020-10-16T13:55:02.334388Z",
     "iopub.status.busy": "2020-10-16T13:55:02.333870Z",
     "iopub.status.idle": "2020-10-16T13:55:06.705055Z",
     "shell.execute_reply": "2020-10-16T13:55:06.704271Z"
    },
    "pycharm": {
     "is_executing": false,
     "name": "#%%\n"
    }
   },
   "outputs": [],
   "source": [
    "from pyms.Noise.SavitzkyGolay import savitzky_golay\n",
    "from pyms.TopHat import tophat\n",
    "\n",
    "n_scan, n_mz = im.size\n",
    "\n",
    "for ii in range(n_mz):\n",
    "    ic = im.get_ic_at_index(ii)\n",
    "    ic1 = savitzky_golay(ic)\n",
    "    ic_smooth = savitzky_golay(ic1)  # Why the second pass here?\n",
    "    ic_bc = tophat(ic_smooth, struct=\"1.5m\")\n",
    "    im.set_ic_at_index(ii, ic_bc)"
   ]
  },
  {
   "cell_type": "markdown",
   "metadata": {
    "collapsed": false
   },
   "source": [
    "Now the Biller and Biemann based technique can be applied to detect peaks."
   ]
  },
  {
   "cell_type": "code",
   "execution_count": 4,
   "metadata": {
    "execution": {
     "iopub.execute_input": "2020-10-16T13:55:06.710080Z",
     "iopub.status.busy": "2020-10-16T13:55:06.709416Z",
     "iopub.status.idle": "2020-10-16T13:55:17.193747Z",
     "shell.execute_reply": "2020-10-16T13:55:17.193092Z"
    },
    "pycharm": {
     "is_executing": false,
     "name": "#%%\n"
    }
   },
   "outputs": [
    {
     "data": {
      "text/plain": [
       "1191"
      ]
     },
     "execution_count": 1,
     "metadata": {},
     "output_type": "execute_result"
    }
   ],
   "source": [
    "from pyms.BillerBiemann import BillerBiemann\n",
    "pl = BillerBiemann(im, points=9, scans=2)\n",
    "len(pl)\n"
   ]
  },
  {
   "cell_type": "markdown",
   "metadata": {
    "collapsed": false,
    "pycharm": {
     "is_executing": false,
     "name": "#%% md\n"
    }
   },
   "source": [
    "Trim the peak list by relative intensity"
   ]
  },
  {
   "cell_type": "code",
   "execution_count": 5,
   "metadata": {
    "execution": {
     "iopub.execute_input": "2020-10-16T13:55:17.541332Z",
     "iopub.status.busy": "2020-10-16T13:55:17.536518Z",
     "iopub.status.idle": "2020-10-16T13:55:17.790563Z",
     "shell.execute_reply": "2020-10-16T13:55:17.791263Z"
    },
    "pycharm": {
     "is_executing": false,
     "name": "#%%\n"
    }
   },
   "outputs": [
    {
     "data": {
      "text/plain": [
       "1191"
      ]
     },
     "execution_count": 1,
     "metadata": {},
     "output_type": "execute_result"
    }
   ],
   "source": [
    "from pyms.BillerBiemann import rel_threshold, num_ions_threshold\n",
    "apl = rel_threshold(pl, percent=2)\n",
    "len(apl)"
   ]
  },
  {
   "cell_type": "markdown",
   "metadata": {
    "collapsed": false,
    "pycharm": {
     "name": "#%% md\n"
    }
   },
   "source": [
    "Trim the peak list by noise threshold"
   ]
  },
  {
   "cell_type": "code",
   "execution_count": 6,
   "metadata": {
    "execution": {
     "iopub.execute_input": "2020-10-16T13:55:17.823483Z",
     "iopub.status.busy": "2020-10-16T13:55:17.818403Z",
     "iopub.status.idle": "2020-10-16T13:55:18.412226Z",
     "shell.execute_reply": "2020-10-16T13:55:18.411519Z"
    },
    "pycharm": {
     "is_executing": false,
     "name": "#%%\n"
    }
   },
   "outputs": [
    {
     "data": {
      "text/plain": [
       "225"
      ]
     },
     "execution_count": 1,
     "metadata": {},
     "output_type": "execute_result"
    }
   ],
   "source": [
    "peak_list = num_ions_threshold(apl, n=3, cutoff=3000)\n",
    "len(peak_list)"
   ]
  },
  {
   "cell_type": "markdown",
   "metadata": {
    "collapsed": false,
    "pycharm": {
     "is_executing": false,
     "name": "#%% md\n"
    }
   },
   "source": [
    "Set the mass range, remove unwanted ions and estimate the peak area"
   ]
  },
  {
   "cell_type": "code",
   "execution_count": 7,
   "metadata": {
    "execution": {
     "iopub.execute_input": "2020-10-16T13:55:18.420890Z",
     "iopub.status.busy": "2020-10-16T13:55:18.418071Z",
     "iopub.status.idle": "2020-10-16T13:55:28.593411Z",
     "shell.execute_reply": "2020-10-16T13:55:28.594123Z"
    },
    "pycharm": {
     "is_executing": false,
     "name": "#%%\n"
    }
   },
   "outputs": [],
   "source": [
    "from pyms.Peak.Function import peak_sum_area\n",
    "\n",
    "for peak in peak_list:\n",
    "    peak.crop_mass(51, 540)\n",
    "\n",
    "    peak.null_mass(73)\n",
    "    peak.null_mass(147)\n",
    "\n",
    "    area = peak_sum_area(im, peak)\n",
    "    peak.area = area"
   ]
  },
  {
   "cell_type": "markdown",
   "metadata": {
    "collapsed": false,
    "pycharm": {
     "is_executing": false,
     "name": "#%% md\n"
    }
   },
   "source": [
    "Create an |Experiment|."
   ]
  },
  {
   "cell_type": "code",
   "execution_count": 8,
   "metadata": {
    "execution": {
     "iopub.execute_input": "2020-10-16T13:55:28.600794Z",
     "iopub.status.busy": "2020-10-16T13:55:28.599179Z",
     "iopub.status.idle": "2020-10-16T13:55:28.601674Z",
     "shell.execute_reply": "2020-10-16T13:55:28.602305Z"
    },
    "pycharm": {
     "is_executing": false,
     "name": "#%% \n"
    }
   },
   "outputs": [],
   "source": [
    "from pyms.Experiment import Experiment\n",
    "\n",
    "expr = Experiment(\"a0806_077\", peak_list)"
   ]
  },
  {
   "cell_type": "markdown",
   "metadata": {
    "collapsed": false,
    "pycharm": {
     "name": "#%% md\n"
    }
   },
   "source": [
    "Set the time range for all Experiments"
   ]
  },
  {
   "cell_type": "code",
   "execution_count": 9,
   "metadata": {
    "execution": {
     "iopub.execute_input": "2020-10-16T13:55:28.607037Z",
     "iopub.status.busy": "2020-10-16T13:55:28.606184Z",
     "iopub.status.idle": "2020-10-16T13:55:28.607705Z",
     "shell.execute_reply": "2020-10-16T13:55:28.608101Z"
    },
    "pycharm": {
     "is_executing": false,
     "name": "#%%\n"
    }
   },
   "outputs": [],
   "source": [
    "expr.sele_rt_range([\"6.5m\", \"21m\"])"
   ]
  },
  {
   "cell_type": "markdown",
   "metadata": {
    "collapsed": false,
    "pycharm": {
     "name": "#%% md\n"
    }
   },
   "source": [
    "Save the experiment to disk."
   ]
  },
  {
   "cell_type": "code",
   "execution_count": 10,
   "metadata": {
    "execution": {
     "iopub.execute_input": "2020-10-16T13:55:28.612131Z",
     "iopub.status.busy": "2020-10-16T13:55:28.611617Z",
     "iopub.status.idle": "2020-10-16T13:55:29.070983Z",
     "shell.execute_reply": "2020-10-16T13:55:29.070389Z"
    },
    "pycharm": {
     "is_executing": false,
     "name": "#%%\n"
    }
   },
   "outputs": [],
   "source": [
    "expr.dump(output_directory / \"experiments\" / \"a0806_077.expr\")"
   ]
  },
  {
   "cell_type": "markdown",
   "metadata": {
    "collapsed": false,
    "pycharm": {
     "name": "#%% md\n"
    }
   },
   "source": []
  }
 ],
 "metadata": {
  "kernelspec": {
   "display_name": "Python 3",
   "language": "python",
   "name": "python3"
  },
  "language_info": {
   "codemirror_mode": {
    "name": "ipython",
    "version": 3
   },
   "file_extension": ".py",
   "mimetype": "text/x-python",
   "name": "python",
   "nbconvert_exporter": "python",
   "pygments_lexer": "ipython3",
   "version": "3.6.9"
  },
  "pycharm": {
   "stem_cell": {
    "cell_type": "raw",
    "metadata": {
     "collapsed": false
    },
    "source": []
   }
  }
 },
 "nbformat": 4,
 "nbformat_minor": 0
}
