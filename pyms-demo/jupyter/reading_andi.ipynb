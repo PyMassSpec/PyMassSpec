{
 "cells": [
  {
   "cell_type": "markdown",
   "metadata": {
    "collapsed": false
   },
   "source": [
    "# Example: Reading ANDI GC-MS data\n",
    "\n",
    "The PyMS package |pyms.GCMS.IO.ANDI| provides capabilities to read the raw\n",
    "GC-MS data stored in the ANDI-MS format.\n",
    "\n",
    "\n",
    "First, setup the paths to the datafile and the output directory, \n",
    "then import ANDI_reader"
   ]
  },
  {
   "cell_type": "code",
   "execution_count": 1,
   "metadata": {
    "execution": {
     "iopub.execute_input": "2020-11-09T18:00:03.822600Z",
     "iopub.status.busy": "2020-11-09T18:00:03.820813Z",
     "iopub.status.idle": "2020-11-09T18:00:03.907006Z",
     "shell.execute_reply": "2020-11-09T18:00:03.907719Z"
    },
    "pycharm": {
     "is_executing": false,
     "name": "#%%\n"
    }
   },
   "outputs": [],
   "source": [
    "import pathlib\n",
    "data_directory = pathlib.Path(\".\").resolve().parent.parent / \"pyms-data\"\n",
    "# Change this if the data files are stored in a different location\n",
    "\n",
    "output_directory = pathlib.Path(\".\").resolve() / \"output\"\n",
    "\n",
    "from pyms.GCMS.IO.ANDI import ANDI_reader"
   ]
  },
  {
   "cell_type": "markdown",
   "metadata": {
    "collapsed": false,
    "pycharm": {
     "name": "#%% md\n"
    }
   },
   "source": [
    "Read the raw ANDI-MS data"
   ]
  },
  {
   "cell_type": "code",
   "execution_count": 2,
   "metadata": {
    "execution": {
     "iopub.execute_input": "2020-11-09T18:00:03.913100Z",
     "iopub.status.busy": "2020-11-09T18:00:03.912556Z",
     "iopub.status.idle": "2020-11-09T18:00:06.577000Z",
     "shell.execute_reply": "2020-11-09T18:00:06.576580Z"
    },
    "pycharm": {
     "is_executing": false,
     "name": "#%%\n"
    }
   },
   "outputs": [
    {
     "name": "stdout",
     "output_type": "stream",
     "text": [
      " -> Reading netCDF file '/home/vagrant/PyMassSpec/pyms-data/gc01_0812_066.cdf'\n"
     ]
    },
    {
     "data": {
      "text/plain": [
       "<GCMS_data(305.582 - 4007.721 seconds, time step 0.37531822789943226, 9865 scans)>"
      ]
     },
     "execution_count": 1,
     "metadata": {},
     "output_type": "execute_result"
    }
   ],
   "source": [
    "andi_file = data_directory / \"gc01_0812_066.cdf\"\n",
    "data = ANDI_reader(andi_file)\n",
    "data"
   ]
  },
  {
   "cell_type": "markdown",
   "metadata": {
    "collapsed": false,
    "pycharm": {
     "name": "#%% md\n"
    }
   },
   "source": [
    "### A GCMS_data Object\n",
    "\n",
    "The object ``data`` (from the two previous examples) stores the raw data as a\n",
    "|pyms.GCMS.Class.GCMS_data| object. \n",
    "Within the |GCMS_data|\n",
    "object, raw data are stored as a list of \n",
    "|pyms.Spectrum.Scan| objects and a list of \n",
    "retention times. There are several methods available to access data and \n",
    "attributes of the |GCMS_data|\n",
    "and |Scan| objects.\n",
    "\n",
    "The |GCMS_data| object's methods relate to the raw data. \n",
    "The main properties relate to the masses, retention times and scans. For example, the\n",
    "minimum and maximum mass from all of the raw data can be returned by the\n",
    "following:"
   ]
  },
  {
   "cell_type": "code",
   "execution_count": 3,
   "metadata": {
    "execution": {
     "iopub.execute_input": "2020-11-09T18:00:06.582196Z",
     "iopub.status.busy": "2020-11-09T18:00:06.581705Z",
     "iopub.status.idle": "2020-11-09T18:00:06.586444Z",
     "shell.execute_reply": "2020-11-09T18:00:06.585976Z"
    },
    "pycharm": {
     "is_executing": false,
     "name": "#%%\n"
    }
   },
   "outputs": [
    {
     "data": {
      "text/plain": [
       "50.0"
      ]
     },
     "execution_count": 1,
     "metadata": {},
     "output_type": "execute_result"
    }
   ],
   "source": [
    "data.min_mass\n"
   ]
  },
  {
   "cell_type": "code",
   "execution_count": 4,
   "metadata": {
    "execution": {
     "iopub.execute_input": "2020-11-09T18:00:06.591623Z",
     "iopub.status.busy": "2020-11-09T18:00:06.591054Z",
     "iopub.status.idle": "2020-11-09T18:00:06.593708Z",
     "shell.execute_reply": "2020-11-09T18:00:06.594172Z"
    },
    "pycharm": {
     "is_executing": false,
     "name": "#%% \n"
    }
   },
   "outputs": [
    {
     "data": {
      "text/plain": [
       "599.9000244140625"
      ]
     },
     "execution_count": 1,
     "metadata": {},
     "output_type": "execute_result"
    }
   ],
   "source": [
    "data.max_mass"
   ]
  },
  {
   "cell_type": "markdown",
   "metadata": {
    "collapsed": false,
    "pycharm": {
     "name": "#%% md\n"
    }
   },
   "source": [
    "A list of the first 10 retention times can be returned with:"
   ]
  },
  {
   "cell_type": "code",
   "execution_count": 5,
   "metadata": {
    "execution": {
     "iopub.execute_input": "2020-11-09T18:00:06.599302Z",
     "iopub.status.busy": "2020-11-09T18:00:06.598726Z",
     "iopub.status.idle": "2020-11-09T18:00:06.602058Z",
     "shell.execute_reply": "2020-11-09T18:00:06.602665Z"
    },
    "pycharm": {
     "is_executing": false,
     "name": "#%%\n"
    }
   },
   "outputs": [
    {
     "data": {
      "text/plain": [
       "[305.582,\n",
       " 305.958,\n",
       " 306.333,\n",
       " 306.707,\n",
       " 307.084,\n",
       " 307.459,\n",
       " 307.834,\n",
       " 308.21,\n",
       " 308.585,\n",
       " 308.96]"
      ]
     },
     "execution_count": 1,
     "metadata": {},
     "output_type": "execute_result"
    }
   ],
   "source": [
    "data.time_list[:10]"
   ]
  },
  {
   "cell_type": "markdown",
   "metadata": {
    "collapsed": false,
    "pycharm": {
     "name": "#%% md\n"
    }
   },
   "source": [
    "The index of a specific retention time (in seconds) can be returned with:\n"
   ]
  },
  {
   "cell_type": "code",
   "execution_count": 6,
   "metadata": {
    "execution": {
     "iopub.execute_input": "2020-11-09T18:00:06.610758Z",
     "iopub.status.busy": "2020-11-09T18:00:06.610116Z",
     "iopub.status.idle": "2020-11-09T18:00:06.614304Z",
     "shell.execute_reply": "2020-11-09T18:00:06.613726Z"
    },
    "pycharm": {
     "is_executing": false,
     "name": "#%%\n"
    }
   },
   "outputs": [
    {
     "data": {
      "text/plain": [
       "252"
      ]
     },
     "execution_count": 1,
     "metadata": {},
     "output_type": "execute_result"
    }
   ],
   "source": [
    "data.get_index_at_time(400.0)"
   ]
  },
  {
   "cell_type": "markdown",
   "metadata": {
    "collapsed": false,
    "pycharm": {
     "name": "#%% md\n"
    }
   },
   "source": [
    "Note that this returns the index of the retention time in the\n",
    "data closest to the given retention time of 400.0 seconds.\n",
    "\n",
    "The |GCMS_data.tic| attribute\n",
    "returns a total ion chromatogram (TIC) of the data\n",
    "as an |IonChromatogram| object:"
   ]
  },
  {
   "cell_type": "code",
   "execution_count": 7,
   "metadata": {
    "execution": {
     "iopub.execute_input": "2020-11-09T18:00:06.618590Z",
     "iopub.status.busy": "2020-11-09T18:00:06.618030Z",
     "iopub.status.idle": "2020-11-09T18:00:06.620722Z",
     "shell.execute_reply": "2020-11-09T18:00:06.621179Z"
    },
    "pycharm": {
     "is_executing": false,
     "name": "#%%\n"
    }
   },
   "outputs": [
    {
     "data": {
      "text/plain": [
       "<pyms.IonChromatogram.IonChromatogram at 0x7f78b67c4e10>"
      ]
     },
     "execution_count": 1,
     "metadata": {},
     "output_type": "execute_result"
    }
   ],
   "source": [
    "data.tic"
   ]
  },
  {
   "cell_type": "markdown",
   "metadata": {
    "collapsed": false,
    "pycharm": {
     "name": "#%% md\n"
    }
   },
   "source": [
    "The |IonChromatogram| object is explained in a later example.\n",
    "\n",
    "### A Scan Object\n",
    "\n",
    "A |pyms.Spectrum.Scan| object contains a list of masses and a corresponding list of intensity values \n",
    "from a single mass-spectrum scan in the raw data. Typically only non-zero (or non-threshold) intensities and \n",
    "corresponding masses are stored in the raw data.\n",
    "\n",
    "A list of the first 10 |pyms.Spectrum.Scan| objects can be returned with:"
   ]
  },
  {
   "cell_type": "code",
   "execution_count": 8,
   "metadata": {
    "execution": {
     "iopub.execute_input": "2020-11-09T18:00:06.653250Z",
     "iopub.status.busy": "2020-11-09T18:00:06.634582Z",
     "iopub.status.idle": "2020-11-09T18:00:06.934491Z",
     "shell.execute_reply": "2020-11-09T18:00:06.934107Z"
    },
    "pycharm": {
     "is_executing": false,
     "name": "#%%\n"
    }
   },
   "outputs": [
    {
     "data": {
      "text/plain": [
       "[<pyms.Spectrum.Scan at 0x7f78bafa8400>,\n",
       " <pyms.Spectrum.Scan at 0x7f78bafa84a8>,\n",
       " <pyms.Spectrum.Scan at 0x7f78bafa8550>,\n",
       " <pyms.Spectrum.Scan at 0x7f78bafa85f8>,\n",
       " <pyms.Spectrum.Scan at 0x7f78bafa86a0>,\n",
       " <pyms.Spectrum.Scan at 0x7f78bafa8748>,\n",
       " <pyms.Spectrum.Scan at 0x7f78bafa87f0>,\n",
       " <pyms.Spectrum.Scan at 0x7f78bafa8898>,\n",
       " <pyms.Spectrum.Scan at 0x7f78bafa8828>,\n",
       " <pyms.Spectrum.Scan at 0x7f78bafa8198>]"
      ]
     },
     "execution_count": 1,
     "metadata": {},
     "output_type": "execute_result"
    }
   ],
   "source": [
    "scans = data.scan_list\n",
    "scans[:10]"
   ]
  },
  {
   "cell_type": "markdown",
   "metadata": {
    "collapsed": false,
    "pycharm": {
     "name": "#%% md\n"
    }
   },
   "source": [
    "A list of the first 10 masses in a scan (e.g. the 1st scan) is returned with:"
   ]
  },
  {
   "cell_type": "code",
   "execution_count": 9,
   "metadata": {
    "execution": {
     "iopub.execute_input": "2020-11-09T18:00:06.940829Z",
     "iopub.status.busy": "2020-11-09T18:00:06.939803Z",
     "iopub.status.idle": "2020-11-09T18:00:06.942654Z",
     "shell.execute_reply": "2020-11-09T18:00:06.943156Z"
    },
    "pycharm": {
     "is_executing": false,
     "name": "#%%\n"
    }
   },
   "outputs": [
    {
     "data": {
      "text/plain": [
       "[50.099998474121094,\n",
       " 51.099998474121094,\n",
       " 53.099998474121094,\n",
       " 54.20000076293945,\n",
       " 55.099998474121094,\n",
       " 56.20000076293945,\n",
       " 57.20000076293945,\n",
       " 58.20000076293945,\n",
       " 59.099998474121094,\n",
       " 60.099998474121094]"
      ]
     },
     "execution_count": 1,
     "metadata": {},
     "output_type": "execute_result"
    }
   ],
   "source": [
    "scans[0].mass_list[:10]"
   ]
  },
  {
   "cell_type": "markdown",
   "metadata": {
    "collapsed": false,
    "pycharm": {
     "name": "#%% md\n"
    }
   },
   "source": [
    "A list of the first 10 corresponding intensities in a scan is returned with:"
   ]
  },
  {
   "cell_type": "code",
   "execution_count": 10,
   "metadata": {
    "execution": {
     "iopub.execute_input": "2020-11-09T18:00:06.948706Z",
     "iopub.status.busy": "2020-11-09T18:00:06.947634Z",
     "iopub.status.idle": "2020-11-09T18:00:06.950883Z",
     "shell.execute_reply": "2020-11-09T18:00:06.951367Z"
    },
    "pycharm": {
     "is_executing": false,
     "name": "#%%\n"
    }
   },
   "outputs": [
    {
     "data": {
      "text/plain": [
       "[22128.0,\n",
       " 10221.0,\n",
       " 31400.0,\n",
       " 27352.0,\n",
       " 65688.0,\n",
       " 55416.0,\n",
       " 75192.0,\n",
       " 112688.0,\n",
       " 152256.0,\n",
       " 21896.0]"
      ]
     },
     "execution_count": 1,
     "metadata": {},
     "output_type": "execute_result"
    }
   ],
   "source": [
    "scans[0].intensity_list[:10]"
   ]
  },
  {
   "cell_type": "markdown",
   "metadata": {
    "collapsed": false,
    "pycharm": {
     "name": "#%% md\n"
    }
   },
   "source": [
    "The minimum and maximum mass in an individual scan (e.g. the 1st scan) are\n",
    "returned with:"
   ]
  },
  {
   "cell_type": "code",
   "execution_count": 11,
   "metadata": {
    "execution": {
     "iopub.execute_input": "2020-11-09T18:00:06.956100Z",
     "iopub.status.busy": "2020-11-09T18:00:06.953839Z",
     "iopub.status.idle": "2020-11-09T18:00:06.958327Z",
     "shell.execute_reply": "2020-11-09T18:00:06.958786Z"
    },
    "pycharm": {
     "is_executing": false,
     "name": "#%%\n"
    }
   },
   "outputs": [
    {
     "data": {
      "text/plain": [
       "50.099998474121094"
      ]
     },
     "execution_count": 1,
     "metadata": {},
     "output_type": "execute_result"
    }
   ],
   "source": [
    "scans[0].min_mass"
   ]
  },
  {
   "cell_type": "code",
   "execution_count": 12,
   "metadata": {
    "execution": {
     "iopub.execute_input": "2020-11-09T18:00:06.963471Z",
     "iopub.status.busy": "2020-11-09T18:00:06.962870Z",
     "iopub.status.idle": "2020-11-09T18:00:06.965511Z",
     "shell.execute_reply": "2020-11-09T18:00:06.965970Z"
    },
    "pycharm": {
     "is_executing": false,
     "name": "#%%\n"
    }
   },
   "outputs": [
    {
     "data": {
      "text/plain": [
       "599.4000244140625"
      ]
     },
     "execution_count": 1,
     "metadata": {},
     "output_type": "execute_result"
    }
   ],
   "source": [
    "scans[0].max_mass"
   ]
  },
  {
   "cell_type": "markdown",
   "metadata": {
    "collapsed": false,
    "pycharm": {
     "name": "#%% md\n"
    }
   },
   "source": [
    "### Exporting data and obtaining information about a data set\n",
    "\n",
    "Often it is of interest to find out some basic information about the\n",
    "data set, e.g. the number of scans, the retention time range, and\n",
    "m/z range and so on. The |GCMS_data|\n",
    "class provides a method |info()|\n",
    "that can be used for this purpose."
   ]
  },
  {
   "cell_type": "code",
   "execution_count": 13,
   "metadata": {
    "execution": {
     "iopub.execute_input": "2020-11-09T18:00:06.973760Z",
     "iopub.status.busy": "2020-11-09T18:00:06.973328Z",
     "iopub.status.idle": "2020-11-09T18:00:06.991385Z",
     "shell.execute_reply": "2020-11-09T18:00:06.991886Z"
    },
    "pycharm": {
     "name": "#%%\n"
    }
   },
   "outputs": [
    {
     "name": "stdout",
     "output_type": "stream",
     "text": [
      " Data retention time range: 5.093 min -- 66.795 min\n",
      " Time step: 0.375 s (std=0.001 s)\n",
      " Number of scans: 9865\n",
      " Minimum m/z measured: 50.000\n",
      " Maximum m/z measured: 599.900\n",
      " Mean number of m/z values per scan: 56\n",
      " Median number of m/z values per scan: 40\n"
     ]
    }
   ],
   "source": [
    "data.info()"
   ]
  },
  {
   "cell_type": "markdown",
   "metadata": {
    "collapsed": false
   },
   "source": [
    "The entire raw data of a |GCMS_data| object can be exported to a file \n",
    "with the method |write()|:"
   ]
  },
  {
   "cell_type": "code",
   "execution_count": 14,
   "metadata": {
    "execution": {
     "iopub.execute_input": "2020-11-09T18:00:06.998291Z",
     "iopub.status.busy": "2020-11-09T18:00:06.997826Z",
     "iopub.status.idle": "2020-11-09T18:00:07.615442Z",
     "shell.execute_reply": "2020-11-09T18:00:07.615067Z"
    },
    "pycharm": {
     "is_executing": false,
     "name": "#%%\n"
    }
   },
   "outputs": [
    {
     "name": "stdout",
     "output_type": "stream",
     "text": [
      " -> Writing intensities to '/home/vagrant/PyMassSpec/pyms-demo/jupyter/output/data.I.csv'\n",
      " -> Writing m/z values to '/home/vagrant/PyMassSpec/pyms-demo/jupyter/output/data.mz.csv'\n"
     ]
    }
   ],
   "source": [
    "data.write(output_directory / \"data\")"
   ]
  },
  {
   "cell_type": "markdown",
   "metadata": {
    "collapsed": false,
    "pycharm": {
     "name": "#%% md\n"
    }
   },
   "source": [
    "This method takes the filename (\"output/data\", in this example)\n",
    "and writes two CSV files. One has extension \".I.csv\" and\n",
    "contains the intensities (\"output/data.I.csv\" in this example),\n",
    "and the other has the extension \".mz\" and contains the\n",
    "corresponding table of m/z value (\"output/data.mz.csv\" in\n",
    "this example). In general, these are not two-dimensional matrices,\n",
    "because different scans may have different number of m/z\n",
    "values recorded."
   ]
  }
 ],
 "metadata": {
  "kernelspec": {
   "display_name": "Python 3",
   "language": "python",
   "name": "python3"
  },
  "language_info": {
   "codemirror_mode": {
    "name": "ipython",
    "version": 3
   },
   "file_extension": ".py",
   "mimetype": "text/x-python",
   "name": "python",
   "nbconvert_exporter": "python",
   "pygments_lexer": "ipython3",
   "version": "3.6.9"
  }
 },
 "nbformat": 4,
 "nbformat_minor": 0
}
