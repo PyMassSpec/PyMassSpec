{
 "cells": [
  {
   "cell_type": "markdown",
   "metadata": {
    "pycharm": {
     "name": "#%% md\n"
    }
   },
   "source": [
    "# Example: Displaying Multiple IonChromatogram Objects\n",
    "\n",
    "Multiple |IonChromatogram| objects can be plotted on the same figure.\n",
    "\n",
    "To start, load a datafile and create an |IntensityMatrix| as before."
   ]
  },
  {
   "cell_type": "code",
   "execution_count": null,
   "metadata": {
    "pycharm": {
     "is_executing": false,
     "name": "#%%\n"
    }
   },
   "outputs": [],
   "source": [
    "import pathlib\n",
    "data_directory = pathlib.Path(\".\").resolve().parent.parent / \"pyms-data\"\n",
    "# Change this if the data files are stored in a different location\n",
    "\n",
    "output_directory = pathlib.Path(\".\").resolve() / \"output\"\n",
    "\n",
    "from pyms.GCMS.IO.JCAMP import JCAMP_reader\n",
    "from pyms.IntensityMatrix import build_intensity_matrix_i\n",
    "\n",
    "jcamp_file = data_directory / \"gc01_0812_066.jdx\"\n",
    "data = JCAMP_reader(jcamp_file)\n",
    "tic = data.tic\n",
    "im = build_intensity_matrix_i(data)"
   ]
  },
  {
   "cell_type": "markdown",
   "metadata": {
    "pycharm": {
     "name": "#%% md\n"
    }
   },
   "source": [
    "Extract the desired IonChromatograms from the |IntensityMatrix| ."
   ]
  },
  {
   "cell_type": "code",
   "execution_count": null,
   "metadata": {
    "pycharm": {
     "is_executing": false,
     "name": "#%%\n"
    }
   },
   "outputs": [],
   "source": [
    "ic73 = im.get_ic_at_mass(73)\n",
    "ic147 = im.get_ic_at_mass(147)"
   ]
  },
  {
   "cell_type": "markdown",
   "metadata": {
    "collapsed": false,
    "pycharm": {
     "name": "#%% md\n"
    }
   },
   "source": [
    "Import matplotlib and the |plot_ic()| function, create a subplot, and plot the ICs on the chart:"
   ]
  },
  {
   "cell_type": "code",
   "execution_count": null,
   "metadata": {
    "pycharm": {
     "is_executing": false,
     "name": "#%%\n"
    }
   },
   "outputs": [],
   "source": [
    "import matplotlib.pyplot as plt\n",
    "from pyms.Display import plot_ic\n",
    "\n",
    "%matplotlib inline\n",
    "# Change to `notebook` for an interactive view \n",
    "\n",
    "fig, ax = plt.subplots(1, 1, figsize=(8, 5))\n",
    "\n",
    "# Plot the ICs\n",
    "plot_ic(ax, tic, label=\"TIC\")\n",
    "plot_ic(ax, ic73, label=\"m/z 73\")\n",
    "plot_ic(ax, ic147, label=\"m/z 147\")\n",
    "\n",
    "# Set the title\n",
    "ax.set_title(\"TIC and ICs for m/z = 73 & 147\")\n",
    "\n",
    "# Add the legend\n",
    "plt.legend()\n",
    "\n",
    "plt.show()"
   ]
  },
  {
   "cell_type": "markdown",
   "metadata": {
    "pycharm": {
     "name": "#%% md\n"
    }
   },
   "source": []
  }
 ],
 "metadata": {
  "kernelspec": {
   "display_name": "Python 3",
   "language": "python",
   "name": "python3"
  },
  "language_info": {
   "codemirror_mode": {
    "name": "ipython",
    "version": 3
   },
   "file_extension": ".py",
   "mimetype": "text/x-python",
   "name": "python",
   "nbconvert_exporter": "python",
   "pygments_lexer": "ipython3",
   "version": "3.6.9"
  },
  "pycharm": {
   "stem_cell": {
    "cell_type": "raw",
    "metadata": {
     "collapsed": false
    },
    "source": []
   }
  }
 },
 "nbformat": 4,
 "nbformat_minor": 1
}
