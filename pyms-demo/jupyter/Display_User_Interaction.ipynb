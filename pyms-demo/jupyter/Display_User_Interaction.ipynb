{
 "cells": [
  {
   "cell_type": "markdown",
   "metadata": {
    "collapsed": false
   },
   "source": [
    "# Example: User Interaction With The Plot Window\n",
    "\n",
    "The class |ClickEventHandler| allows for additional interaction with the plot\n",
    "on top of that provided by ``matplotlib``.\n",
    "\n",
    "Note: This may not work in Jupyter Notebook\n",
    "\n",
    "To use the class, first import and process the data before:"
   ]
  },
  {
   "cell_type": "code",
   "execution_count": null,
   "metadata": {
    "pycharm": {
     "is_executing": false,
     "name": "#%%\n"
    }
   },
   "outputs": [],
   "source": [
    "import pathlib\n",
    "\n",
    "import matplotlib.pyplot as plt\n",
    "\n",
    "from pyms.GCMS.IO.JCAMP import JCAMP_reader\n",
    "from pyms.IntensityMatrix import build_intensity_matrix\n",
    "from pyms.Display import plot_ic, plot_peaks\n",
    "from pyms.Noise.SavitzkyGolay import savitzky_golay\n",
    "from pyms.TopHat import tophat\n",
    "from pyms.BillerBiemann import BillerBiemann, rel_threshold, num_ions_threshold"
   ]
  },
  {
   "cell_type": "code",
   "execution_count": null,
   "metadata": {
    "pycharm": {
     "is_executing": false,
     "name": "#%%\n"
    }
   },
   "outputs": [],
   "source": [
    "data_directory = pathlib.Path(\".\").resolve().parent.parent / \"pyms-data\"\n",
    "# Change this if the data files are stored in a different location\n",
    "\n",
    "output_directory = pathlib.Path(\".\").resolve() / \"output\""
   ]
  },
  {
   "cell_type": "code",
   "execution_count": null,
   "metadata": {
    "pycharm": {
     "is_executing": false,
     "name": "#%%\n"
    }
   },
   "outputs": [],
   "source": [
    "jcamp_file = data_directory / \"gc01_0812_066.jdx\"\n",
    "data = JCAMP_reader(jcamp_file)\n",
    "data.trim(\"500s\", \"2000s\")\n",
    "tic = data.tic\n",
    "im = build_intensity_matrix(data)"
   ]
  },
  {
   "cell_type": "code",
   "execution_count": null,
   "metadata": {
    "pycharm": {
     "is_executing": false,
     "name": "#%%\n"
    }
   },
   "outputs": [],
   "source": [
    "n_scan, n_mz = im.size\n",
    "\n",
    "for ii in range(n_mz):\n",
    "\tic = im.get_ic_at_index(ii)\n",
    "\tic_smooth = savitzky_golay(ic)\n",
    "\tic_bc = tophat(ic_smooth, struct=\"1.5m\")\n",
    "\tim.set_ic_at_index(ii, ic_bc)"
   ]
  },
  {
   "cell_type": "code",
   "execution_count": null,
   "metadata": {
    "pycharm": {
     "is_executing": false,
     "name": "#%%\n"
    }
   },
   "outputs": [],
   "source": [
    "peak_list = BillerBiemann(im, points=9, scans=2)\n",
    "pl = rel_threshold(peak_list, percent=2)\n",
    "new_peak_list = num_ions_threshold(pl, n=3, cutoff=10000)\n",
    "\n",
    "print(\"Number of filtered peaks: \", len(new_peak_list))\n"
   ]
  },
  {
   "cell_type": "markdown",
   "metadata": {
    "pycharm": {
     "name": "#%% md\n"
    }
   },
   "source": [
    "Creating the plot proceeds much as before, except that \n",
    "|ClickEventHandler(peak_list=new_peak_list)| must be called before ``plt.show()``.\n",
    "\n",
    "You should also assign this to a variable to prevent it being garbage collected."
   ]
  },
  {
   "cell_type": "code",
   "execution_count": null,
   "metadata": {
    "pycharm": {
     "is_executing": false,
     "name": "#%%\n"
    }
   },
   "outputs": [],
   "source": [
    "from pyms.Display import ClickEventHandler\n",
    "\n",
    "%matplotlib inline\n",
    "# Change to `notebook` for an interactive view\n",
    "\n",
    "fig, ax = plt.subplots(1, 1, figsize=(8, 5))\n",
    "\n",
    "# Plot the TIC\n",
    "plot_ic(ax, tic, label=\"TIC\")\n",
    "\n",
    "# Plot the peaks\n",
    "plot_peaks(ax, new_peak_list)\n",
    "\n",
    "# Set the title\n",
    "ax.set_title('TIC for gc01_0812_066 with Detected Peaks')\n",
    "\n",
    "# Set up the ClickEventHandler\n",
    "handler = ClickEventHandler(new_peak_list)\n",
    "\n",
    "# Add the legend\n",
    "plt.legend()\n",
    "\n",
    "plt.show()"
   ]
  },
  {
   "cell_type": "markdown",
   "metadata": {
    "pycharm": {
     "name": "#%% md\n"
    }
   },
   "source": [
    "Clicking on a Peak causes a list of the 5 highest intensity ions\n",
    "at that Peak to be written to the terminal in order. The output should look\n",
    "similar to this:"
   ]
  },
  {
   "cell_type": "markdown",
   "metadata": {
    "collapsed": false,
    "pycharm": {
     "name": "#%% md\n"
    }
   },
   "source": [
    "\n",
    "\tRT: 1031.823\n",
    "\tMass\t Intensity\n",
    "\t158.0\t 2206317.857142857\n",
    "\t73.0\t 628007.1428571426\n",
    "\t218.0\t 492717.04761904746\n",
    "\t159.0\t 316150.4285714285\n",
    "\t147.0\t 196663.95238095228\n"
   ]
  },
  {
   "cell_type": "markdown",
   "metadata": {
    "collapsed": false,
    "pycharm": {
     "name": "#%% md\n"
    }
   },
   "source": [
    "If there is no Peak close to the point on the chart that was clicked, the\n",
    "the following will be shown in the terminal:"
   ]
  },
  {
   "cell_type": "markdown",
   "metadata": {
    "collapsed": false,
    "pycharm": {
     "name": "#%% md\n"
    }
   },
   "source": [
    "\tNo Peak at this point\n"
   ]
  },
  {
   "cell_type": "markdown",
   "metadata": {
    "collapsed": false,
    "pycharm": {
     "name": "#%% md\n"
    }
   },
   "source": [
    "The |ClickEventHandler| class can be configured with a different tolerance, in\n",
    "seconds, when clicking on a Peak, and to display a different number of top n\n",
    "ions when a Peak is clicked.\n",
    "\n",
    "In addition, clicking the right mouse button on a Peak displays the mass\n",
    "spectrum at the peak in a new window."
   ]
  }
 ],
 "metadata": {
  "kernelspec": {
   "display_name": "Python 3",
   "language": "python",
   "name": "python3"
  },
  "language_info": {
   "codemirror_mode": {
    "name": "ipython",
    "version": 3
   },
   "file_extension": ".py",
   "mimetype": "text/x-python",
   "name": "python",
   "nbconvert_exporter": "python",
   "pygments_lexer": "ipython3",
   "version": "3.6.9"
  },
  "pycharm": {
   "stem_cell": {
    "cell_type": "raw",
    "metadata": {
     "collapsed": false
    },
    "source": []
   }
  }
 },
 "nbformat": 4,
 "nbformat_minor": 1
}
