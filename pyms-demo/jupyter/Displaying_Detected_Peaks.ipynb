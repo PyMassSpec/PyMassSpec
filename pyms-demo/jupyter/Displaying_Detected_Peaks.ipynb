{
 "cells": [
  {
   "cell_type": "markdown",
   "metadata": {
    "collapsed": false
   },
   "source": [
    "# Example: Displaying Detected Peaks\n",
    "\n",
    "The |Display| module also allows for detected peaks to marked on a TIC plot.\n",
    "\n",
    "First, setup the paths to the datafiles and the output directory, then import JCAMP_reader and build_intensity_matrix."
   ]
  },
  {
   "cell_type": "code",
   "execution_count": 1,
   "metadata": {
    "collapsed": false,
    "pycharm": {
     "is_executing": false,
     "name": "#%%\n"
    }
   },
   "outputs": [],
   "source": [
    "import pathlib\n",
    "data_directory = pathlib.Path(\".\").resolve().parent.parent / \"pyms-data\"\n",
    "# Change this if the data files are stored in a different location\n",
    "\n",
    "output_directory = pathlib.Path(\".\").resolve() / \"output\"\n",
    "\n",
    "from pyms.GCMS.IO.JCAMP import JCAMP_reader\n",
    "from pyms.IntensityMatrix import build_intensity_matrix"
   ]
  },
  {
   "cell_type": "markdown",
   "metadata": {},
   "source": [
    "Read the raw data files, extract the TIC and build the |IntensityMatrix| ."
   ]
  },
  {
   "cell_type": "code",
   "execution_count": 2,
   "metadata": {
    "pycharm": {
     "is_executing": false,
     "name": "#%%\n"
    }
   },
   "outputs": [
    {
     "name": "stdout",
     "output_type": "stream",
     "text": [
      " -> Reading JCAMP file '/home/vagrant/PyMassSpec/pyms-data/gc01_0812_066.jdx'\n",
      "Trimming data to between 520 and 4517 scans\n"
     ]
    }
   ],
   "source": [
    "jcamp_file = data_directory / \"gc01_0812_066.jdx\"\n",
    "data = JCAMP_reader(jcamp_file)\n",
    "data.trim(\"500s\", \"2000s\")\n",
    "tic = data.tic\n",
    "im = build_intensity_matrix(data)"
   ]
  },
  {
   "cell_type": "markdown",
   "metadata": {
    "collapsed": false,
    "pycharm": {
     "name": "#%% md\n"
    }
   },
   "source": [
    "Perform pre-filtering and peak detection.\n",
    "For more information on detecting peaks see \"`Peak detection and representation <chapter06.html>`_\"."
   ]
  },
  {
   "cell_type": "code",
   "execution_count": 3,
   "metadata": {
    "collapsed": false,
    "pycharm": {
     "is_executing": false,
     "name": "#%%\n"
    }
   },
   "outputs": [
    {
     "name": "stdout",
     "output_type": "stream",
     "text": [
      "Number of peaks found:  1467\n",
      "Number of filtered peaks:  72\n"
     ]
    }
   ],
   "source": [
    "from pyms.Noise.SavitzkyGolay import savitzky_golay\n",
    "from pyms.TopHat import tophat\n",
    "from pyms.BillerBiemann import BillerBiemann, rel_threshold, num_ions_threshold\n",
    "\n",
    "n_scan, n_mz = im.size\n",
    "\n",
    "for ii in range(n_mz):\n",
    "\tic = im.get_ic_at_index(ii)\n",
    "\tic_smooth = savitzky_golay(ic)\n",
    "\tic_bc = tophat(ic_smooth, struct=\"1.5m\")\n",
    "\tim.set_ic_at_index(ii, ic_bc)\n",
    "\n",
    "# Detect Peaks\n",
    "peak_list = BillerBiemann(im, points=9, scans=2)\n",
    "\n",
    "print(\"Number of peaks found: \", len(peak_list))\n",
    "\n",
    "# Filter the peak list, first by removing all intensities in a peak less than a\n",
    "# given relative threshold, then by removing all peaks that have less than a \n",
    "# given number of ions above a given value\n",
    "\n",
    "pl = rel_threshold(peak_list, percent=2)\n",
    "new_peak_list = num_ions_threshold(pl, n=3, cutoff=10000)\n",
    "\n",
    "print(\"Number of filtered peaks: \", len(new_peak_list))\n"
   ]
  },
  {
   "cell_type": "markdown",
   "metadata": {
    "pycharm": {
     "name": "#%% md\n"
    }
   },
   "source": [
    "Get Ion Chromatograms for 4 separate m/z channels."
   ]
  },
  {
   "cell_type": "code",
   "execution_count": 4,
   "metadata": {
    "collapsed": false,
    "pycharm": {
     "is_executing": false,
     "name": "#%%\n"
    }
   },
   "outputs": [],
   "source": [
    "ic191 = im.get_ic_at_mass(191)\n",
    "ic73 = im.get_ic_at_mass(73)\n",
    "ic57 = im.get_ic_at_mass(57)\n",
    "ic55 = im.get_ic_at_mass(55)"
   ]
  },
  {
   "cell_type": "markdown",
   "metadata": {
    "collapsed": false,
    "pycharm": {
     "name": "#%% md\n"
    }
   },
   "source": [
    "Import matplotlib, and the |plot_ic()| and |plot_peaks()| functions."
   ]
  },
  {
   "cell_type": "code",
   "execution_count": 5,
   "metadata": {
    "pycharm": {
     "is_executing": false,
     "name": "#%%\n"
    }
   },
   "outputs": [],
   "source": [
    "import matplotlib.pyplot as plt\n",
    "from pyms.Display import plot_ic, plot_peaks"
   ]
  },
  {
   "cell_type": "markdown",
   "metadata": {
    "collapsed": false,
    "pycharm": {
     "name": "#%% md\n"
    }
   },
   "source": [
    "Create a subplot, and plot the TIC."
   ]
  },
  {
   "cell_type": "code",
   "execution_count": 6,
   "metadata": {
    "collapsed": false,
    "pycharm": {
     "is_executing": false,
     "name": "#%%\n"
    }
   },
   "outputs": [
    {
     "name": "stdout",
     "output_type": "stream",
     "text": [
      "301683.9047619046\n",
      "369284.3333333332\n",
      "91942.14285714283\n",
      "233347.7619047618\n",
      "142839.52380952376\n",
      "375386.3333333332\n",
      "2988934.999999999\n",
      "5248592.76190476\n",
      "2082994.3333333323\n",
      "166091.09523809515\n",
      "524115.66666666645\n",
      "3484375.571428571\n",
      "169028.619047619\n",
      "177873.28571428562\n",
      "222694.61904761897\n",
      "194526.42857142855\n",
      "2909316.380952379\n",
      "3539133.190476189\n",
      "79805.33333333333\n",
      "412492.33333333314\n",
      "4133987.380952379\n",
      "80747.52380952376\n",
      "4399813.666666665\n",
      "3245759.238095236\n",
      "1379215.7619047614\n",
      "537112.4285714284\n",
      "2037894.142857142\n",
      "1674621.7142857139\n",
      "5838757.047619046\n",
      "6137090.809523807\n",
      "372022.4761904761\n",
      "101052.2857142857\n",
      "120870.19047619042\n",
      "2989261.8571428563\n",
      "227927.1428571428\n",
      "343972.38095238083\n",
      "3433341.4761904753\n",
      "243866.619047619\n",
      "4406332.476190476\n",
      "1520631.7619047614\n",
      "143266.09523809518\n",
      "1852775.7142857139\n",
      "2703031.6666666656\n",
      "5272497.5238095205\n",
      "128960.33333333328\n",
      "4321301.952380951\n",
      "176948.57142857136\n",
      "793323.7619047615\n",
      "805459.3333333329\n",
      "3745138.476190474\n",
      "3245251.619047618\n",
      "810290.9523809521\n",
      "866114.7619047617\n",
      "236420.52380952373\n",
      "2821752.238095238\n",
      "144469.1428571428\n",
      "2645480.2857142845\n",
      "4699996.523809521\n",
      "3930985.3333333316\n",
      "1969025.0476190466\n",
      "821682.8571428572\n",
      "594755.095238095\n",
      "1168777.0476190473\n",
      "1074811.2857142852\n",
      "1152171.1904761903\n",
      "145849.95238095234\n",
      "359992.57142857136\n",
      "308967.5714285713\n",
      "239646.99999999994\n",
      "270955.5238095236\n",
      "485868.6666666665\n",
      "1749804.1904761903\n"
     ]
    },
    {
     "data": {
      "image/png": "[encoded data removed]",
      "text/plain": [
       "<Figure size 576x360 with 1 Axes>"
      ]
     },
     "metadata": {
      "needs_background": "light"
     },
     "output_type": "display_data"
    }
   ],
   "source": [
    "%matplotlib inline\n",
    "# Change to `notebook` for an interactive view\n",
    "\n",
    "fig, ax = plt.subplots(1, 1, figsize=(8, 5))\n",
    "\n",
    "# Plot the ICs\n",
    "plot_ic(ax, tic, label=\"TIC\")\n",
    "plot_ic(ax, ic191, label=\"m/z 191\")\n",
    "plot_ic(ax, ic73, label=\"m/z 73\")\n",
    "plot_ic(ax, ic57, label=\"m/z 57\")\n",
    "plot_ic(ax, ic55, label=\"m/z 55\")\n",
    "\n",
    "# Plot the peaks\n",
    "plot_peaks(ax, new_peak_list)\n",
    "\n",
    "# Set the title\n",
    "ax.set_title('TIC, ICs, and PyMS Detected Peaks')\n",
    "\n",
    "# Add the legend\n",
    "plt.legend()\n",
    "\n",
    "plt.show()"
   ]
  },
  {
   "cell_type": "markdown",
   "metadata": {
    "pycharm": {
     "name": "#%% md\n"
    }
   },
   "source": [
    "The function |plot_peaks()| adds the\n",
    "PyMassSpec detected peaks to the figure."
   ]
  }
 ],
 "metadata": {
  "kernelspec": {
   "display_name": "Python 3",
   "language": "python",
   "name": "python3"
  },
  "language_info": {
   "codemirror_mode": {
    "name": "ipython",
    "version": 3
   },
   "file_extension": ".py",
   "mimetype": "text/x-python",
   "name": "python",
   "nbconvert_exporter": "python",
   "pygments_lexer": "ipython3",
   "version": "3.6.9"
  },
  "pycharm": {
   "stem_cell": {
    "cell_type": "raw",
    "metadata": {
     "collapsed": false
    },
    "source": []
   }
  }
 },
 "nbformat": 4,
 "nbformat_minor": 1
}
