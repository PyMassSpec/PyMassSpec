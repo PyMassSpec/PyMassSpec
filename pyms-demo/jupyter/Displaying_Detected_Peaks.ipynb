{
 "cells": [
  {
   "cell_type": "markdown",
   "metadata": {
    "collapsed": false
   },
   "source": [
    "# Example: Displaying Detected Peaks\n",
    "\n",
    "The |Display| module also allows for detected peaks to marked on a TIC plot.\n",
    "\n",
    "First, setup the paths to the datafiles and the output directory, then import JCAMP_reader and build_intensity_matrix."
   ]
  },
  {
   "cell_type": "code",
   "execution_count": null,
   "metadata": {
    "pycharm": {
     "is_executing": false,
     "name": "#%%\n"
    }
   },
   "outputs": [],
   "source": [
    "import pathlib\n",
    "data_directory = pathlib.Path(\".\").resolve().parent.parent / \"pyms-data\"\n",
    "# Change this if the data files are stored in a different location\n",
    "\n",
    "output_directory = pathlib.Path(\".\").resolve() / \"output\"\n",
    "\n",
    "from pyms.GCMS.IO.JCAMP import JCAMP_reader\n",
    "from pyms.IntensityMatrix import build_intensity_matrix"
   ]
  },
  {
   "cell_type": "markdown",
   "metadata": {},
   "source": [
    "Read the raw data files, extract the TIC and build the |IntensityMatrix| ."
   ]
  },
  {
   "cell_type": "code",
   "execution_count": null,
   "metadata": {
    "pycharm": {
     "is_executing": false,
     "name": "#%%\n"
    }
   },
   "outputs": [],
   "source": [
    "jcamp_file = data_directory / \"gc01_0812_066.jdx\"\n",
    "data = JCAMP_reader(jcamp_file)\n",
    "data.trim(\"500s\", \"2000s\")\n",
    "tic = data.tic\n",
    "im = build_intensity_matrix(data)"
   ]
  },
  {
   "cell_type": "markdown",
   "metadata": {
    "collapsed": false,
    "pycharm": {
     "name": "#%% md\n"
    }
   },
   "source": [
    "Perform pre-filtering and peak detection.\n",
    "For more information on detecting peaks see \"`Peak detection and representation <chapter06.html>`_\"."
   ]
  },
  {
   "cell_type": "code",
   "execution_count": null,
   "metadata": {
    "pycharm": {
     "is_executing": false,
     "name": "#%%\n"
    }
   },
   "outputs": [],
   "source": [
    "from pyms.Noise.SavitzkyGolay import savitzky_golay\n",
    "from pyms.TopHat import tophat\n",
    "from pyms.BillerBiemann import BillerBiemann, rel_threshold, num_ions_threshold\n",
    "\n",
    "n_scan, n_mz = im.size\n",
    "\n",
    "for ii in range(n_mz):\n",
    "\tic = im.get_ic_at_index(ii)\n",
    "\tic_smooth = savitzky_golay(ic)\n",
    "\tic_bc = tophat(ic_smooth, struct=\"1.5m\")\n",
    "\tim.set_ic_at_index(ii, ic_bc)\n",
    "\n",
    "# Detect Peaks\n",
    "peak_list = BillerBiemann(im, points=9, scans=2)\n",
    "\n",
    "print(\"Number of peaks found: \", len(peak_list))\n",
    "\n",
    "# Filter the peak list, first by removing all intensities in a peak less than a\n",
    "# given relative threshold, then by removing all peaks that have less than a \n",
    "# given number of ions above a given value\n",
    "\n",
    "pl = rel_threshold(peak_list, percent=2)\n",
    "new_peak_list = num_ions_threshold(pl, n=3, cutoff=10000)\n",
    "\n",
    "print(\"Number of filtered peaks: \", len(new_peak_list))\n"
   ]
  },
  {
   "cell_type": "markdown",
   "metadata": {
    "pycharm": {
     "name": "#%% md\n"
    }
   },
   "source": [
    "Get Ion Chromatograms for 4 separate m/z channels."
   ]
  },
  {
   "cell_type": "code",
   "execution_count": null,
   "metadata": {
    "pycharm": {
     "is_executing": false,
     "name": "#%%\n"
    }
   },
   "outputs": [],
   "source": [
    "ic191 = im.get_ic_at_mass(191)\n",
    "ic73 = im.get_ic_at_mass(73)\n",
    "ic57 = im.get_ic_at_mass(57)\n",
    "ic55 = im.get_ic_at_mass(55)"
   ]
  },
  {
   "cell_type": "markdown",
   "metadata": {
    "collapsed": false,
    "pycharm": {
     "name": "#%% md\n"
    }
   },
   "source": [
    "Import matplotlib, and the |plot_ic()| and |plot_peaks()| functions."
   ]
  },
  {
   "cell_type": "code",
   "execution_count": null,
   "metadata": {
    "pycharm": {
     "is_executing": false,
     "name": "#%%\n"
    }
   },
   "outputs": [],
   "source": [
    "import matplotlib.pyplot as plt\n",
    "from pyms.Display import plot_ic, plot_peaks"
   ]
  },
  {
   "cell_type": "markdown",
   "metadata": {
    "collapsed": false,
    "pycharm": {
     "name": "#%% md\n"
    }
   },
   "source": [
    "Create a subplot, and plot the TIC."
   ]
  },
  {
   "cell_type": "code",
   "execution_count": null,
   "metadata": {
    "pycharm": {
     "is_executing": false,
     "name": "#%%\n"
    }
   },
   "outputs": [],
   "source": [
    "%matplotlib inline\n",
    "# Change to `notebook` for an interactive view\n",
    "\n",
    "fig, ax = plt.subplots(1, 1, figsize=(8, 5))\n",
    "\n",
    "# Plot the ICs\n",
    "plot_ic(ax, tic, label=\"TIC\")\n",
    "plot_ic(ax, ic191, label=\"m/z 191\")\n",
    "plot_ic(ax, ic73, label=\"m/z 73\")\n",
    "plot_ic(ax, ic57, label=\"m/z 57\")\n",
    "plot_ic(ax, ic55, label=\"m/z 55\")\n",
    "\n",
    "# Plot the peaks\n",
    "plot_peaks(ax, new_peak_list)\n",
    "\n",
    "# Set the title\n",
    "ax.set_title('TIC, ICs, and PyMS Detected Peaks')\n",
    "\n",
    "# Add the legend\n",
    "plt.legend()\n",
    "\n",
    "plt.show()"
   ]
  },
  {
   "cell_type": "markdown",
   "metadata": {
    "pycharm": {
     "name": "#%% md\n"
    }
   },
   "source": [
    "The function |plot_peaks()| adds the\n",
    "PyMassSpec detected peaks to the figure."
   ]
  }
 ],
 "metadata": {
  "kernelspec": {
   "display_name": "Python 3",
   "language": "python",
   "name": "python3"
  },
  "language_info": {
   "codemirror_mode": {
    "name": "ipython",
    "version": 3
   },
   "file_extension": ".py",
   "mimetype": "text/x-python",
   "name": "python",
   "nbconvert_exporter": "python",
   "pygments_lexer": "ipython3",
   "version": "3.6.9"
  },
  "pycharm": {
   "stem_cell": {
    "cell_type": "raw",
    "metadata": {
     "collapsed": false
    },
    "source": []
   }
  }
 },
 "nbformat": 4,
 "nbformat_minor": 1
}
