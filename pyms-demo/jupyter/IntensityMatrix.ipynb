{
 "cells": [
  {
   "cell_type": "markdown",
   "metadata": {
    "collapsed": false,
    "pycharm": {
     "name": "#%% md\n"
    }
   },
   "source": [
    "## Example: Building an Intensity Matrix\n",
    "\n",
    "First, setup the paths to the datafiles and the output directory, then import JCAMP_reader."
   ]
  },
  {
   "cell_type": "code",
   "execution_count": 1,
   "metadata": {
    "execution": {
     "iopub.execute_input": "2020-10-16T13:55:33.788070Z",
     "iopub.status.busy": "2020-10-16T13:55:33.786290Z",
     "iopub.status.idle": "2020-10-16T13:55:33.867780Z",
     "shell.execute_reply": "2020-10-16T13:55:33.868141Z"
    },
    "pycharm": {
     "is_executing": false,
     "name": "#%%\n"
    }
   },
   "outputs": [],
   "source": [
    "import pathlib\n",
    "data_directory = pathlib.Path(\".\").resolve().parent.parent / \"pyms-data\"\n",
    "# Change this if the data files are stored in a different location\n",
    "\n",
    "output_directory = pathlib.Path(\".\").resolve() / \"output\"\n",
    "\n",
    "from pyms.GCMS.IO.JCAMP import JCAMP_reader"
   ]
  },
  {
   "cell_type": "markdown",
   "metadata": {
    "collapsed": false
   },
   "source": [
    "Read the raw data files."
   ]
  },
  {
   "cell_type": "code",
   "execution_count": 2,
   "metadata": {
    "execution": {
     "iopub.execute_input": "2020-10-16T13:55:33.871303Z",
     "iopub.status.busy": "2020-10-16T13:55:33.870871Z",
     "iopub.status.idle": "2020-10-16T13:55:35.000437Z",
     "shell.execute_reply": "2020-10-16T13:55:34.999740Z"
    },
    "pycharm": {
     "is_executing": false,
     "name": "#%%\n"
    }
   },
   "outputs": [
    {
     "name": "stdout",
     "output_type": "stream",
     "text": [
      " -> Reading JCAMP file '/home/vagrant/PyMassSpec/pyms-data/gc01_0812_066.jdx'\n"
     ]
    },
    {
     "data": {
      "text/plain": [
       "GCMS_data(rt range 305.582 - 4007.722, time_step 0.3753183292781833, length 9865)"
      ]
     },
     "execution_count": 1,
     "metadata": {},
     "output_type": "execute_result"
    }
   ],
   "source": [
    "jcamp_file = data_directory / \"gc01_0812_066.jdx\"\n",
    "data = JCAMP_reader(jcamp_file)\n",
    "data"
   ]
  },
  {
   "cell_type": "markdown",
   "metadata": {
    "collapsed": false
   },
   "source": [
    "Then the data can be converted to an |IntensityMatrix| using the function \n",
    "|build_intensity_matrix()| from |pyms.IntensityMatrix|.\n",
    "\n",
    "The default operation of |build_intensity_matrix()| is to use a bin interval of\n",
    " one and treat the masses as floating point numbers. The default intensity \n",
    " matrix can be built as follows:"
   ]
  },
  {
   "cell_type": "code",
   "execution_count": 3,
   "metadata": {
    "execution": {
     "iopub.execute_input": "2020-10-16T13:55:35.006548Z",
     "iopub.status.busy": "2020-10-16T13:55:35.005791Z",
     "iopub.status.idle": "2020-10-16T13:55:36.125664Z",
     "shell.execute_reply": "2020-10-16T13:55:36.125251Z"
    },
    "pycharm": {
     "is_executing": false,
     "name": "#%%\n"
    }
   },
   "outputs": [
    {
     "data": {
      "text/plain": [
       "<pyms.IntensityMatrix.IntensityMatrix at 0x7f28f4500ac8>"
      ]
     },
     "execution_count": 1,
     "metadata": {},
     "output_type": "execute_result"
    }
   ],
   "source": [
    "from pyms.IntensityMatrix import build_intensity_matrix\n",
    "\n",
    "im = build_intensity_matrix(data)\n",
    "\n",
    "im"
   ]
  },
  {
   "cell_type": "markdown",
   "metadata": {
    "collapsed": false
   },
   "source": [
    "The size as the number of scans and the number of bins can be returned with:"
   ]
  },
  {
   "cell_type": "code",
   "execution_count": 4,
   "metadata": {
    "execution": {
     "iopub.execute_input": "2020-10-16T13:55:36.131254Z",
     "iopub.status.busy": "2020-10-16T13:55:36.130704Z",
     "iopub.status.idle": "2020-10-16T13:55:36.133412Z",
     "shell.execute_reply": "2020-10-16T13:55:36.133872Z"
    },
    "pycharm": {
     "is_executing": false,
     "name": "#%%\n"
    }
   },
   "outputs": [
    {
     "data": {
      "text/plain": [
       "(9865, 551)"
      ]
     },
     "execution_count": 1,
     "metadata": {},
     "output_type": "execute_result"
    }
   ],
   "source": [
    "im.size"
   ]
  },
  {
   "cell_type": "markdown",
   "metadata": {
    "collapsed": false
   },
   "source": [
    "There are 9865 scans and 551 bins in this example.\n",
    "\n",
    "The raw masses have been binned into new mass units based on the minimum mass\n",
    "in the raw data and the bin size. A list of the first ten new masses can be \n",
    "obtained as follows:"
   ]
  },
  {
   "cell_type": "code",
   "execution_count": 5,
   "metadata": {
    "execution": {
     "iopub.execute_input": "2020-10-16T13:55:36.138705Z",
     "iopub.status.busy": "2020-10-16T13:55:36.138153Z",
     "iopub.status.idle": "2020-10-16T13:55:36.140655Z",
     "shell.execute_reply": "2020-10-16T13:55:36.141100Z"
    },
    "pycharm": {
     "is_executing": false,
     "name": "#%%\n"
    }
   },
   "outputs": [
    {
     "data": {
      "text/plain": [
       "[50.0, 51.0, 52.0, 53.0, 54.0, 55.0, 56.0, 57.0, 58.0, 59.0]"
      ]
     },
     "execution_count": 1,
     "metadata": {},
     "output_type": "execute_result"
    }
   ],
   "source": [
    "im.mass_list[:10]"
   ]
  },
  {
   "cell_type": "markdown",
   "metadata": {
    "collapsed": false
   },
   "source": [
    "The attributes |im.min_mass| and |im.max_mass| return the minimum and maximum mass:"
   ]
  },
  {
   "cell_type": "code",
   "execution_count": 6,
   "metadata": {
    "execution": {
     "iopub.execute_input": "2020-10-16T13:55:36.145653Z",
     "iopub.status.busy": "2020-10-16T13:55:36.145108Z",
     "iopub.status.idle": "2020-10-16T13:55:36.147698Z",
     "shell.execute_reply": "2020-10-16T13:55:36.148156Z"
    },
    "pycharm": {
     "is_executing": false,
     "name": "#%%\n"
    }
   },
   "outputs": [
    {
     "data": {
      "text/plain": [
       "50.0"
      ]
     },
     "execution_count": 1,
     "metadata": {},
     "output_type": "execute_result"
    }
   ],
   "source": [
    "im.min_mass"
   ]
  },
  {
   "cell_type": "code",
   "execution_count": 7,
   "metadata": {
    "execution": {
     "iopub.execute_input": "2020-10-16T13:55:36.153134Z",
     "iopub.status.busy": "2020-10-16T13:55:36.152306Z",
     "iopub.status.idle": "2020-10-16T13:55:36.154903Z",
     "shell.execute_reply": "2020-10-16T13:55:36.155354Z"
    },
    "pycharm": {
     "is_executing": false,
     "name": "#%%\n"
    }
   },
   "outputs": [
    {
     "data": {
      "text/plain": [
       "600.0"
      ]
     },
     "execution_count": 1,
     "metadata": {},
     "output_type": "execute_result"
    }
   ],
   "source": [
    "im.max_mass"
   ]
  },
  {
   "cell_type": "markdown",
   "metadata": {
    "collapsed": false
   },
   "source": [
    "It is also possible to search for a particular mass, by finding the index of\n",
    "the binned mass closest to the desired mass. For example, the index of the\n",
    "closest binned mass to a mass of 73.3 |m/z| can be found by using the\n",
    "methods |im.get_index_of_mass()|:"
   ]
  },
  {
   "cell_type": "code",
   "execution_count": 8,
   "metadata": {
    "execution": {
     "iopub.execute_input": "2020-10-16T13:55:36.160252Z",
     "iopub.status.busy": "2020-10-16T13:55:36.159698Z",
     "iopub.status.idle": "2020-10-16T13:55:36.162334Z",
     "shell.execute_reply": "2020-10-16T13:55:36.162792Z"
    },
    "pycharm": {
     "is_executing": false,
     "name": "#%%\n"
    }
   },
   "outputs": [
    {
     "data": {
      "text/plain": [
       "23"
      ]
     },
     "execution_count": 1,
     "metadata": {},
     "output_type": "execute_result"
    }
   ],
   "source": [
    "index = im.get_index_of_mass(73.3)\n",
    "\n",
    "index"
   ]
  },
  {
   "cell_type": "markdown",
   "metadata": {
    "collapsed": false
   },
   "source": [
    "The value of the closest mass can be returned by the method\n",
    "|im.get_mass_at_index()|:"
   ]
  },
  {
   "cell_type": "code",
   "execution_count": 9,
   "metadata": {
    "execution": {
     "iopub.execute_input": "2020-10-16T13:55:36.167615Z",
     "iopub.status.busy": "2020-10-16T13:55:36.167064Z",
     "iopub.status.idle": "2020-10-16T13:55:36.169669Z",
     "shell.execute_reply": "2020-10-16T13:55:36.170123Z"
    },
    "pycharm": {
     "is_executing": false,
     "name": "#%%\n"
    }
   },
   "outputs": [
    {
     "data": {
      "text/plain": [
       "73.0"
      ]
     },
     "execution_count": 1,
     "metadata": {},
     "output_type": "execute_result"
    }
   ],
   "source": [
    "im.get_mass_at_index(index)"
   ]
  },
  {
   "cell_type": "markdown",
   "metadata": {
    "collapsed": false
   },
   "source": [
    "A mass of 73.0 is returned in this example.\n",
    "\n",
    "## Build intensity matrix parameters\n",
    "\n",
    "The bin interval can be set to values other than one, and binning boundaries\n",
    "can also be adjusted. In the example below, to fit the 0.5 bin interval, the\n",
    "upper and lower boundaries are set to ± 0.25."
   ]
  },
  {
   "cell_type": "code",
   "execution_count": 10,
   "metadata": {
    "execution": {
     "iopub.execute_input": "2020-10-16T13:55:36.189272Z",
     "iopub.status.busy": "2020-10-16T13:55:36.184057Z",
     "iopub.status.idle": "2020-10-16T13:55:37.910508Z",
     "shell.execute_reply": "2020-10-16T13:55:37.911260Z"
    },
    "pycharm": {
     "is_executing": false,
     "name": "#%%\n"
    }
   },
   "outputs": [
    {
     "data": {
      "text/plain": [
       "<pyms.IntensityMatrix.IntensityMatrix at 0x7f28d4e0a780>"
      ]
     },
     "execution_count": 1,
     "metadata": {},
     "output_type": "execute_result"
    }
   ],
   "source": [
    "im = build_intensity_matrix(data, 0.5, 0.25, 0.25)\n",
    "\n",
    "im"
   ]
  },
  {
   "cell_type": "markdown",
   "metadata": {
    "collapsed": false,
    "pycharm": {
     "name": "#%% md\n"
    }
   },
   "source": [
    "The size of the intensity matrix will reflect the change in the number of bins:"
   ]
  },
  {
   "cell_type": "code",
   "execution_count": 11,
   "metadata": {
    "execution": {
     "iopub.execute_input": "2020-10-16T13:55:37.917699Z",
     "iopub.status.busy": "2020-10-16T13:55:37.917101Z",
     "iopub.status.idle": "2020-10-16T13:55:37.923330Z",
     "shell.execute_reply": "2020-10-16T13:55:37.922677Z"
    },
    "pycharm": {
     "is_executing": false,
     "name": "#%%\n"
    }
   },
   "outputs": [
    {
     "data": {
      "text/plain": [
       "(9865, 1101)"
      ]
     },
     "execution_count": 1,
     "metadata": {},
     "output_type": "execute_result"
    }
   ],
   "source": [
    "im.size"
   ]
  },
  {
   "cell_type": "code",
   "execution_count": 12,
   "metadata": {
    "execution": {
     "iopub.execute_input": "2020-10-16T13:55:37.928232Z",
     "iopub.status.busy": "2020-10-16T13:55:37.927745Z",
     "iopub.status.idle": "2020-10-16T13:55:37.930218Z",
     "shell.execute_reply": "2020-10-16T13:55:37.930630Z"
    },
    "pycharm": {
     "is_executing": false,
     "name": "#%%\n"
    }
   },
   "outputs": [
    {
     "data": {
      "text/plain": [
       "[50.0, 50.5, 51.0, 51.5, 52.0, 52.5, 53.0, 53.5, 54.0, 54.5]"
      ]
     },
     "execution_count": 1,
     "metadata": {},
     "output_type": "execute_result"
    }
   ],
   "source": [
    "im.mass_list[:10]"
   ]
  },
  {
   "cell_type": "markdown",
   "metadata": {
    "collapsed": false,
    "pycharm": {
     "name": "#%% md\n"
    }
   },
   "source": [
    "In this example there are 9865 scans (as before), but 1101 bins.\n",
    "\n",
    "The index and binned mass of the mass closest to 73.3 should also reflect the\n",
    "different binning."
   ]
  },
  {
   "cell_type": "code",
   "execution_count": 13,
   "metadata": {
    "execution": {
     "iopub.execute_input": "2020-10-16T13:55:37.935418Z",
     "iopub.status.busy": "2020-10-16T13:55:37.934728Z",
     "iopub.status.idle": "2020-10-16T13:55:37.937233Z",
     "shell.execute_reply": "2020-10-16T13:55:37.937645Z"
    },
    "pycharm": {
     "is_executing": false,
     "name": "#%%\n"
    }
   },
   "outputs": [
    {
     "data": {
      "text/plain": [
       "47"
      ]
     },
     "execution_count": 1,
     "metadata": {},
     "output_type": "execute_result"
    }
   ],
   "source": [
    "index = im.get_index_of_mass(73.3)\n",
    "\n",
    "index"
   ]
  },
  {
   "cell_type": "code",
   "execution_count": 14,
   "metadata": {
    "execution": {
     "iopub.execute_input": "2020-10-16T13:55:37.941938Z",
     "iopub.status.busy": "2020-10-16T13:55:37.941455Z",
     "iopub.status.idle": "2020-10-16T13:55:37.943741Z",
     "shell.execute_reply": "2020-10-16T13:55:37.944192Z"
    },
    "pycharm": {
     "is_executing": false,
     "name": "#%%\n"
    }
   },
   "outputs": [
    {
     "data": {
      "text/plain": [
       "73.5"
      ]
     },
     "execution_count": 1,
     "metadata": {},
     "output_type": "execute_result"
    }
   ],
   "source": [
    "im.get_mass_at_index(index)"
   ]
  },
  {
   "cell_type": "markdown",
   "metadata": {
    "collapsed": false,
    "pycharm": {
     "name": "#%% md\n"
    }
   },
   "source": [
    "## Build integer mass intensity matrix\n",
    "\n",
    "It is also possible to build an intensity matrix with integer masses and a bin\n",
    "interval of one using |build_intensity_matrix_i()|. The default range for the \n",
    "binning is -0.3 and +0.7 mass units. The function is imported from \n",
    "|pyms.IntensityMatrix|:"
   ]
  },
  {
   "cell_type": "code",
   "execution_count": 15,
   "metadata": {
    "execution": {
     "iopub.execute_input": "2020-10-16T13:55:37.961796Z",
     "iopub.status.busy": "2020-10-16T13:55:37.956612Z",
     "iopub.status.idle": "2020-10-16T13:55:39.095129Z",
     "shell.execute_reply": "2020-10-16T13:55:39.095769Z"
    },
    "pycharm": {
     "is_executing": false,
     "name": "#%%\n"
    }
   },
   "outputs": [
    {
     "data": {
      "text/plain": [
       "<pyms.IntensityMatrix.IntensityMatrix at 0x7f28d4e0a208>"
      ]
     },
     "execution_count": 1,
     "metadata": {},
     "output_type": "execute_result"
    }
   ],
   "source": [
    "from pyms.IntensityMatrix import build_intensity_matrix_i\n",
    "\n",
    "im = build_intensity_matrix_i(data)\n",
    "im"
   ]
  },
  {
   "cell_type": "code",
   "execution_count": 16,
   "metadata": {
    "execution": {
     "iopub.execute_input": "2020-10-16T13:55:39.100126Z",
     "iopub.status.busy": "2020-10-16T13:55:39.099617Z",
     "iopub.status.idle": "2020-10-16T13:55:39.102067Z",
     "shell.execute_reply": "2020-10-16T13:55:39.102480Z"
    },
    "pycharm": {
     "is_executing": false,
     "name": "#%%\n"
    }
   },
   "outputs": [
    {
     "data": {
      "text/plain": [
       "(9865, 551)"
      ]
     },
     "execution_count": 1,
     "metadata": {},
     "output_type": "execute_result"
    }
   ],
   "source": [
    "im.size"
   ]
  },
  {
   "cell_type": "code",
   "execution_count": 17,
   "metadata": {
    "execution": {
     "iopub.execute_input": "2020-10-16T13:55:39.109289Z",
     "iopub.status.busy": "2020-10-16T13:55:39.107537Z",
     "iopub.status.idle": "2020-10-16T13:55:39.111881Z",
     "shell.execute_reply": "2020-10-16T13:55:39.111218Z"
    },
    "pycharm": {
     "is_executing": false,
     "name": "#%%\n"
    }
   },
   "outputs": [
    {
     "data": {
      "text/plain": [
       "[50, 51, 52, 53, 54, 55, 56, 57, 58, 59]"
      ]
     },
     "execution_count": 1,
     "metadata": {},
     "output_type": "execute_result"
    }
   ],
   "source": [
    "im.mass_list[:10]"
   ]
  },
  {
   "cell_type": "markdown",
   "metadata": {
    "collapsed": false,
    "pycharm": {
     "name": "#%% md\n"
    }
   },
   "source": [
    "The masses are now integers."
   ]
  },
  {
   "cell_type": "code",
   "execution_count": 18,
   "metadata": {
    "execution": {
     "iopub.execute_input": "2020-10-16T13:55:39.116671Z",
     "iopub.status.busy": "2020-10-16T13:55:39.116117Z",
     "iopub.status.idle": "2020-10-16T13:55:39.118449Z",
     "shell.execute_reply": "2020-10-16T13:55:39.118851Z"
    },
    "pycharm": {
     "is_executing": false,
     "name": "#%%\n"
    }
   },
   "outputs": [
    {
     "data": {
      "text/plain": [
       "23"
      ]
     },
     "execution_count": 1,
     "metadata": {},
     "output_type": "execute_result"
    }
   ],
   "source": [
    "index = im.get_index_of_mass(73.3)\n",
    "index"
   ]
  },
  {
   "cell_type": "code",
   "execution_count": 19,
   "metadata": {
    "execution": {
     "iopub.execute_input": "2020-10-16T13:55:39.123013Z",
     "iopub.status.busy": "2020-10-16T13:55:39.122528Z",
     "iopub.status.idle": "2020-10-16T13:55:39.124937Z",
     "shell.execute_reply": "2020-10-16T13:55:39.125349Z"
    },
    "pycharm": {
     "is_executing": false,
     "name": "#%%\n"
    }
   },
   "outputs": [
    {
     "data": {
      "text/plain": [
       "73"
      ]
     },
     "execution_count": 1,
     "metadata": {},
     "output_type": "execute_result"
    }
   ],
   "source": [
    "im.get_mass_at_index(index)"
   ]
  },
  {
   "cell_type": "markdown",
   "metadata": {
    "collapsed": false,
    "pycharm": {
     "name": "#%% md\n"
    }
   },
   "source": [
    "The lower and upper bounds can be adjusted with |build_intensity_matrix_i(data, lower, upper)|."
   ]
  }
 ],
 "metadata": {
  "kernelspec": {
   "display_name": "Python 3",
   "language": "python",
   "name": "python3"
  },
  "language_info": {
   "codemirror_mode": {
    "name": "ipython",
    "version": 3
   },
   "file_extension": ".py",
   "mimetype": "text/x-python",
   "name": "python",
   "nbconvert_exporter": "python",
   "pygments_lexer": "ipython3",
   "version": "3.6.9"
  }
 },
 "nbformat": 4,
 "nbformat_minor": 0
}
