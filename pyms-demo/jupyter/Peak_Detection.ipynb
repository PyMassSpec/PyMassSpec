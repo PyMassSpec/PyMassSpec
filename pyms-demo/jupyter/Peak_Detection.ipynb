{
 "cells": [
  {
   "cell_type": "markdown",
   "metadata": {
    "collapsed": false,
    "pycharm": {
     "name": "#%% md\n"
    }
   },
   "source": [
    "## Example: Peak Detection\n",
    "\n",
    "First, setup the paths to the datafiles and the output directory, then import JCAMP_reader and build_intensity_matrix."
   ]
  },
  {
   "cell_type": "code",
   "execution_count": 1,
   "metadata": {
    "execution": {
     "iopub.execute_input": "2020-10-16T14:04:24.791501Z",
     "iopub.status.busy": "2020-10-16T14:04:24.790209Z",
     "iopub.status.idle": "2020-10-16T14:04:24.928700Z",
     "shell.execute_reply": "2020-10-16T14:04:24.927881Z"
    },
    "pycharm": {
     "is_executing": false,
     "name": "#%%\n"
    }
   },
   "outputs": [],
   "source": [
    "import pathlib\n",
    "data_directory = pathlib.Path(\".\").resolve().parent.parent / \"pyms-data\"\n",
    "# Change this if the data files are stored in a different location\n",
    "\n",
    "output_directory = pathlib.Path(\".\").resolve() / \"output\"\n",
    "\n",
    "from pyms.GCMS.IO.JCAMP import JCAMP_reader\n",
    "from pyms.IntensityMatrix import build_intensity_matrix"
   ]
  },
  {
   "cell_type": "markdown",
   "metadata": {
    "collapsed": false
   },
   "source": [
    "Read the raw data file and build the |IntensityMatrix|."
   ]
  },
  {
   "cell_type": "code",
   "execution_count": 2,
   "metadata": {
    "execution": {
     "iopub.execute_input": "2020-10-16T14:04:24.935325Z",
     "iopub.status.busy": "2020-10-16T14:04:24.934479Z",
     "iopub.status.idle": "2020-10-16T14:04:27.197295Z",
     "shell.execute_reply": "2020-10-16T14:04:27.195816Z"
    },
    "pycharm": {
     "is_executing": false,
     "name": "#%%\n"
    }
   },
   "outputs": [
    {
     "name": "stdout",
     "output_type": "stream",
     "text": [
      " -> Reading JCAMP file '/home/vagrant/PyMassSpec/pyms-data/gc01_0812_066.jdx'\n"
     ]
    }
   ],
   "source": [
    "jcamp_file = data_directory / \"gc01_0812_066.jdx\"\n",
    "data = JCAMP_reader(jcamp_file)\n",
    "im = build_intensity_matrix(data)"
   ]
  },
  {
   "cell_type": "markdown",
   "metadata": {
    "collapsed": false
   },
   "source": [
    "Preprocess the data (Savitzky-Golay smoothing and Tophat baseline detection"
   ]
  },
  {
   "cell_type": "code",
   "execution_count": 3,
   "metadata": {
    "execution": {
     "iopub.execute_input": "2020-10-16T14:04:27.202526Z",
     "iopub.status.busy": "2020-10-16T14:04:27.201607Z",
     "iopub.status.idle": "2020-10-16T14:04:40.025871Z",
     "shell.execute_reply": "2020-10-16T14:04:40.025190Z"
    },
    "pycharm": {
     "is_executing": false,
     "name": "#%%\n"
    }
   },
   "outputs": [],
   "source": [
    "from pyms.Noise.SavitzkyGolay import savitzky_golay\n",
    "from pyms.TopHat import tophat\n",
    "\n",
    "n_scan, n_mz = im.size\n",
    "\n",
    "for ii in range(n_mz):\n",
    "    ic = im.get_ic_at_index(ii)\n",
    "    ic_smooth = savitzky_golay(ic)\n",
    "    ic_bc = tophat(ic_smooth, struct=\"1.5m\")\n",
    "    im.set_ic_at_index(ii, ic_bc)"
   ]
  },
  {
   "cell_type": "markdown",
   "metadata": {
    "collapsed": false
   },
   "source": [
    "Now the Biller and Biemann based technique can be applied to detect peaks."
   ]
  },
  {
   "cell_type": "code",
   "execution_count": 4,
   "metadata": {
    "execution": {
     "iopub.execute_input": "2020-10-16T14:04:40.030008Z",
     "iopub.status.busy": "2020-10-16T14:04:40.029514Z",
     "iopub.status.idle": "2020-10-16T14:05:07.335470Z",
     "shell.execute_reply": "2020-10-16T14:05:07.335792Z"
    },
    "pycharm": {
     "is_executing": false,
     "name": "#%%\n"
    }
   },
   "outputs": [
    {
     "data": {
      "text/plain": [
       "[<pyms.Peak.Class.Peak at 0x7fb9b85134e0>,\n",
       " <pyms.Peak.Class.Peak at 0x7fb9b8513a58>,\n",
       " <pyms.Peak.Class.Peak at 0x7fb9bf418da0>,\n",
       " <pyms.Peak.Class.Peak at 0x7fb995fc0748>,\n",
       " <pyms.Peak.Class.Peak at 0x7fb9c112f6d8>,\n",
       " <pyms.Peak.Class.Peak at 0x7fb995fd4e10>,\n",
       " <pyms.Peak.Class.Peak at 0x7fb995fd4fd0>,\n",
       " <pyms.Peak.Class.Peak at 0x7fb99821d080>,\n",
       " <pyms.Peak.Class.Peak at 0x7fb99821d0f0>,\n",
       " <pyms.Peak.Class.Peak at 0x7fb99821d160>]"
      ]
     },
     "execution_count": 1,
     "metadata": {},
     "output_type": "execute_result"
    }
   ],
   "source": [
    "from pyms.BillerBiemann import BillerBiemann\n",
    "peak_list = BillerBiemann(im)\n",
    "peak_list[:10]"
   ]
  },
  {
   "cell_type": "code",
   "execution_count": 5,
   "metadata": {
    "execution": {
     "iopub.execute_input": "2020-10-16T14:05:07.341154Z",
     "iopub.status.busy": "2020-10-16T14:05:07.340529Z",
     "iopub.status.idle": "2020-10-16T14:05:07.343238Z",
     "shell.execute_reply": "2020-10-16T14:05:07.343701Z"
    },
    "pycharm": {
     "is_executing": false,
     "name": "#%%\n"
    }
   },
   "outputs": [
    {
     "data": {
      "text/plain": [
       "9845"
      ]
     },
     "execution_count": 1,
     "metadata": {},
     "output_type": "execute_result"
    }
   ],
   "source": [
    "len(peak_list)\n"
   ]
  },
  {
   "cell_type": "markdown",
   "metadata": {
    "collapsed": false,
    "pycharm": {
     "is_executing": false,
     "name": "#%% md\n"
    }
   },
   "source": [
    "Note that this is nearly as many peaks as there are scans in the data\n",
    "(9865 scans). This is due to noise and the simplicity of the technique.\n",
    "\n",
    "The number of detected peaks can be constrained by the selection of better\n",
    "parameters. Parameters can be determined by counting the number of points\n",
    "across a peak, and examining where peaks are found. For example, the peak\n",
    "list can be found with the parameters of a window of 9 points and by\n",
    "combining 2 neighbouring scans if they apex next to each other:\n"
   ]
  },
  {
   "cell_type": "code",
   "execution_count": 6,
   "metadata": {
    "execution": {
     "iopub.execute_input": "2020-10-16T14:05:07.347873Z",
     "iopub.status.busy": "2020-10-16T14:05:07.347242Z",
     "iopub.status.idle": "2020-10-16T14:05:43.824942Z",
     "shell.execute_reply": "2020-10-16T14:05:43.825545Z"
    },
    "pycharm": {
     "is_executing": false,
     "name": "#%% \n"
    }
   },
   "outputs": [
    {
     "data": {
      "text/plain": [
       "[<pyms.Peak.Class.Peak at 0x7fb9809e5668>,\n",
       " <pyms.Peak.Class.Peak at 0x7fb9809e56a0>,\n",
       " <pyms.Peak.Class.Peak at 0x7fb9809e5710>,\n",
       " <pyms.Peak.Class.Peak at 0x7fb9809e5780>,\n",
       " <pyms.Peak.Class.Peak at 0x7fb9809e57f0>,\n",
       " <pyms.Peak.Class.Peak at 0x7fb9809e5860>,\n",
       " <pyms.Peak.Class.Peak at 0x7fb9809e58d0>,\n",
       " <pyms.Peak.Class.Peak at 0x7fb9809e5940>,\n",
       " <pyms.Peak.Class.Peak at 0x7fb9809e59b0>,\n",
       " <pyms.Peak.Class.Peak at 0x7fb9809e5a20>]"
      ]
     },
     "execution_count": 1,
     "metadata": {},
     "output_type": "execute_result"
    }
   ],
   "source": [
    "peak_list = BillerBiemann(im, points=9, scans=2)\n",
    "peak_list[:10]"
   ]
  },
  {
   "cell_type": "code",
   "execution_count": 7,
   "metadata": {
    "execution": {
     "iopub.execute_input": "2020-10-16T14:05:43.831065Z",
     "iopub.status.busy": "2020-10-16T14:05:43.830578Z",
     "iopub.status.idle": "2020-10-16T14:05:43.835634Z",
     "shell.execute_reply": "2020-10-16T14:05:43.836041Z"
    },
    "pycharm": {
     "is_executing": false,
     "name": "#%%\n"
    }
   },
   "outputs": [
    {
     "data": {
      "text/plain": [
       "3695"
      ]
     },
     "execution_count": 1,
     "metadata": {},
     "output_type": "execute_result"
    }
   ],
   "source": [
    "len(peak_list)\n"
   ]
  },
  {
   "cell_type": "markdown",
   "metadata": {
    "collapsed": false,
    "pycharm": {
     "is_executing": false,
     "name": "#%% md\n"
    }
   },
   "source": [
    "The number of detected peaks has been reduced, but there are still many more\n",
    "than would be expected from the sample. Functions to filter the peak list are\n",
    "covered in the next example.\n",
    "\n",
    "## Example: Peak List Filtering\n",
    "\n",
    "There are two functions to filter the list of Peak objects.\n",
    "\n",
    "The first, |rel_threshold()| modifies the mass spectrum stored in each peak so\n",
    "any intensity that is less than a given percentage of the maximum intensity for the peak is removed.\n",
    "\n",
    "The second, |num_ions_threshold()|, removes any peak that has less than a given\n",
    "number of ions above a given threshold.\n",
    "\n",
    "Once the peak list has been constructed, the filters can be applied as follows:"
   ]
  },
  {
   "cell_type": "code",
   "execution_count": 8,
   "metadata": {
    "execution": {
     "iopub.execute_input": "2020-10-16T14:05:43.909940Z",
     "iopub.status.busy": "2020-10-16T14:05:43.871045Z",
     "iopub.status.idle": "2020-10-16T14:05:45.977006Z",
     "shell.execute_reply": "2020-10-16T14:05:45.976200Z"
    },
    "pycharm": {
     "is_executing": false,
     "name": "#%%\n"
    }
   },
   "outputs": [
    {
     "data": {
      "text/plain": [
       "[<pyms.Peak.Class.Peak at 0x7fb99821d048>,\n",
       " <pyms.Peak.Class.Peak at 0x7fb99821d160>,\n",
       " <pyms.Peak.Class.Peak at 0x7fb99821d1d0>,\n",
       " <pyms.Peak.Class.Peak at 0x7fb99821d278>,\n",
       " <pyms.Peak.Class.Peak at 0x7fb99821d390>,\n",
       " <pyms.Peak.Class.Peak at 0x7fb99821d3c8>,\n",
       " <pyms.Peak.Class.Peak at 0x7fb99821d4e0>,\n",
       " <pyms.Peak.Class.Peak at 0x7fb99821d518>,\n",
       " <pyms.Peak.Class.Peak at 0x7fb99821d630>,\n",
       " <pyms.Peak.Class.Peak at 0x7fb99821d668>]"
      ]
     },
     "execution_count": 1,
     "metadata": {},
     "output_type": "execute_result"
    }
   ],
   "source": [
    "from pyms.BillerBiemann import rel_threshold, num_ions_threshold\n",
    "pl = rel_threshold(peak_list, percent=2)\n",
    "pl[:10]"
   ]
  },
  {
   "cell_type": "code",
   "execution_count": 9,
   "metadata": {
    "execution": {
     "iopub.execute_input": "2020-10-16T14:05:46.045619Z",
     "iopub.status.busy": "2020-10-16T14:05:45.991645Z",
     "iopub.status.idle": "2020-10-16T14:05:48.106250Z",
     "shell.execute_reply": "2020-10-16T14:05:48.105486Z"
    },
    "pycharm": {
     "is_executing": false,
     "name": "#%%\n"
    }
   },
   "outputs": [
    {
     "data": {
      "text/plain": [
       "[<pyms.Peak.Class.Peak at 0x7fb9b850c8d0>,\n",
       " <pyms.Peak.Class.Peak at 0x7fb9b850c710>,\n",
       " <pyms.Peak.Class.Peak at 0x7fb99821d198>,\n",
       " <pyms.Peak.Class.Peak at 0x7fb98f0d7e10>,\n",
       " <pyms.Peak.Class.Peak at 0x7fb98f0d7080>,\n",
       " <pyms.Peak.Class.Peak at 0x7fb98f0d7ef0>,\n",
       " <pyms.Peak.Class.Peak at 0x7fb98f0d7f98>,\n",
       " <pyms.Peak.Class.Peak at 0x7fb998211128>,\n",
       " <pyms.Peak.Class.Peak at 0x7fb998211160>,\n",
       " <pyms.Peak.Class.Peak at 0x7fb998211208>]"
      ]
     },
     "execution_count": 1,
     "metadata": {},
     "output_type": "execute_result"
    }
   ],
   "source": [
    "new_peak_list = num_ions_threshold(pl, n=3, cutoff=10000)\n",
    "new_peak_list[:10]"
   ]
  },
  {
   "cell_type": "code",
   "execution_count": 10,
   "metadata": {
    "execution": {
     "iopub.execute_input": "2020-10-16T14:05:48.114470Z",
     "iopub.status.busy": "2020-10-16T14:05:48.112166Z",
     "iopub.status.idle": "2020-10-16T14:05:48.117363Z",
     "shell.execute_reply": "2020-10-16T14:05:48.116525Z"
    },
    "pycharm": {
     "is_executing": false,
     "name": "#%%\n"
    }
   },
   "outputs": [
    {
     "data": {
      "text/plain": [
       "146"
      ]
     },
     "execution_count": 1,
     "metadata": {},
     "output_type": "execute_result"
    }
   ],
   "source": [
    "len(new_peak_list)"
   ]
  },
  {
   "cell_type": "markdown",
   "metadata": {
    "collapsed": false,
    "pycharm": {
     "name": "#%% md\n"
    }
   },
   "source": [
    "The number of detected peaks is now more realistic of what would be expected in\n",
    "the test sample."
   ]
  }
 ],
 "metadata": {
  "kernelspec": {
   "display_name": "Python 3",
   "language": "python",
   "name": "python3"
  },
  "language_info": {
   "codemirror_mode": {
    "name": "ipython",
    "version": 3
   },
   "file_extension": ".py",
   "mimetype": "text/x-python",
   "name": "python",
   "nbconvert_exporter": "python",
   "pygments_lexer": "ipython3",
   "version": "3.6.9"
  },
  "pycharm": {
   "stem_cell": {
    "cell_type": "raw",
    "metadata": {
     "collapsed": false
    },
    "source": []
   }
  }
 },
 "nbformat": 4,
 "nbformat_minor": 0
}
