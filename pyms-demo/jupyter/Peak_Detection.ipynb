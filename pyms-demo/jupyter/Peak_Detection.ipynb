{
 "cells": [
  {
   "cell_type": "markdown",
   "metadata": {
    "collapsed": false,
    "pycharm": {
     "name": "#%% md\n"
    }
   },
   "source": [
    "## Example: Peak Detection\n",
    "\n",
    "First, setup the paths to the datafiles and the output directory, then import JCAMP_reader and build_intensity_matrix."
   ]
  },
  {
   "cell_type": "code",
   "execution_count": 1,
   "metadata": {
    "execution": {
     "iopub.execute_input": "2020-11-09T17:57:29.317817Z",
     "iopub.status.busy": "2020-11-09T17:57:29.315673Z",
     "iopub.status.idle": "2020-11-09T17:57:29.480194Z",
     "shell.execute_reply": "2020-11-09T17:57:29.479466Z"
    },
    "pycharm": {
     "is_executing": false,
     "name": "#%%\n"
    }
   },
   "outputs": [],
   "source": [
    "import pathlib\n",
    "data_directory = pathlib.Path(\".\").resolve().parent.parent / \"pyms-data\"\n",
    "# Change this if the data files are stored in a different location\n",
    "\n",
    "output_directory = pathlib.Path(\".\").resolve() / \"output\"\n",
    "\n",
    "from pyms.GCMS.IO.JCAMP import JCAMP_reader\n",
    "from pyms.IntensityMatrix import build_intensity_matrix"
   ]
  },
  {
   "cell_type": "markdown",
   "metadata": {
    "collapsed": false
   },
   "source": [
    "Read the raw data file and build the |IntensityMatrix|."
   ]
  },
  {
   "cell_type": "code",
   "execution_count": 2,
   "metadata": {
    "execution": {
     "iopub.execute_input": "2020-11-09T17:57:29.486054Z",
     "iopub.status.busy": "2020-11-09T17:57:29.485310Z",
     "iopub.status.idle": "2020-11-09T17:57:31.643672Z",
     "shell.execute_reply": "2020-11-09T17:57:31.642141Z"
    },
    "pycharm": {
     "is_executing": false,
     "name": "#%%\n"
    }
   },
   "outputs": [
    {
     "name": "stdout",
     "output_type": "stream",
     "text": [
      " -> Reading JCAMP file '/home/vagrant/PyMassSpec/pyms-data/gc01_0812_066.jdx'\n"
     ]
    }
   ],
   "source": [
    "jcamp_file = data_directory / \"gc01_0812_066.jdx\"\n",
    "data = JCAMP_reader(jcamp_file)\n",
    "im = build_intensity_matrix(data)"
   ]
  },
  {
   "cell_type": "markdown",
   "metadata": {
    "collapsed": false
   },
   "source": [
    "Preprocess the data (Savitzky-Golay smoothing and Tophat baseline detection)."
   ]
  },
  {
   "cell_type": "code",
   "execution_count": 3,
   "metadata": {
    "execution": {
     "iopub.execute_input": "2020-11-09T17:57:31.648950Z",
     "iopub.status.busy": "2020-11-09T17:57:31.647862Z",
     "iopub.status.idle": "2020-11-09T17:57:45.237818Z",
     "shell.execute_reply": "2020-11-09T17:57:45.236933Z"
    },
    "pycharm": {
     "is_executing": false,
     "name": "#%%\n"
    }
   },
   "outputs": [],
   "source": [
    "from pyms.Noise.SavitzkyGolay import savitzky_golay\n",
    "from pyms.TopHat import tophat\n",
    "\n",
    "n_scan, n_mz = im.size\n",
    "\n",
    "for ii in range(n_mz):\n",
    "    ic = im.get_ic_at_index(ii)\n",
    "    ic_smooth = savitzky_golay(ic)\n",
    "    ic_bc = tophat(ic_smooth, struct=\"1.5m\")\n",
    "    im.set_ic_at_index(ii, ic_bc)"
   ]
  },
  {
   "cell_type": "markdown",
   "metadata": {
    "collapsed": false
   },
   "source": [
    "Now the Biller and Biemann based technique can be applied to detect peaks."
   ]
  },
  {
   "cell_type": "code",
   "execution_count": 4,
   "metadata": {
    "execution": {
     "iopub.execute_input": "2020-11-09T17:57:45.242239Z",
     "iopub.status.busy": "2020-11-09T17:57:45.241477Z",
     "iopub.status.idle": "2020-11-09T17:58:13.520836Z",
     "shell.execute_reply": "2020-11-09T17:58:13.520225Z"
    },
    "pycharm": {
     "is_executing": false,
     "name": "#%%\n"
    }
   },
   "outputs": [
    {
     "data": {
      "text/plain": [
       "[<pyms.Peak.Class.Peak at 0x7efe480dd358>,\n",
       " <pyms.Peak.Class.Peak at 0x7efe480dd390>,\n",
       " <pyms.Peak.Class.Peak at 0x7efe27eff438>,\n",
       " <pyms.Peak.Class.Peak at 0x7efe4d216c50>,\n",
       " <pyms.Peak.Class.Peak at 0x7efe1cffa3c8>,\n",
       " <pyms.Peak.Class.Peak at 0x7efe1cffa588>,\n",
       " <pyms.Peak.Class.Peak at 0x7efe1cffa5f8>,\n",
       " <pyms.Peak.Class.Peak at 0x7efe1cffa668>,\n",
       " <pyms.Peak.Class.Peak at 0x7efe1cffa6d8>,\n",
       " <pyms.Peak.Class.Peak at 0x7efe1cffa748>]"
      ]
     },
     "execution_count": 1,
     "metadata": {},
     "output_type": "execute_result"
    }
   ],
   "source": [
    "from pyms.BillerBiemann import BillerBiemann\n",
    "peak_list = BillerBiemann(im)\n",
    "peak_list[:10]"
   ]
  },
  {
   "cell_type": "code",
   "execution_count": 5,
   "metadata": {
    "execution": {
     "iopub.execute_input": "2020-11-09T17:58:13.526122Z",
     "iopub.status.busy": "2020-11-09T17:58:13.525040Z",
     "iopub.status.idle": "2020-11-09T17:58:13.528222Z",
     "shell.execute_reply": "2020-11-09T17:58:13.527741Z"
    },
    "pycharm": {
     "is_executing": false,
     "name": "#%%\n"
    }
   },
   "outputs": [
    {
     "data": {
      "text/plain": [
       "9845"
      ]
     },
     "execution_count": 1,
     "metadata": {},
     "output_type": "execute_result"
    }
   ],
   "source": [
    "len(peak_list)\n"
   ]
  },
  {
   "cell_type": "markdown",
   "metadata": {
    "collapsed": false,
    "pycharm": {
     "is_executing": false,
     "name": "#%% md\n"
    }
   },
   "source": [
    "Note that this is nearly as many peaks as there are scans in the data\n",
    "(9865 scans). This is due to noise and the simplicity of the technique.\n",
    "\n",
    "The number of detected peaks can be constrained by the selection of better\n",
    "parameters. Parameters can be determined by counting the number of points\n",
    "across a peak, and examining where peaks are found. For example, the peak\n",
    "list can be found with the parameters of a window of 9 points and by\n",
    "combining 2 neighbouring scans if they apex next to each other:\n"
   ]
  },
  {
   "cell_type": "code",
   "execution_count": 6,
   "metadata": {
    "execution": {
     "iopub.execute_input": "2020-11-09T17:58:13.532573Z",
     "iopub.status.busy": "2020-11-09T17:58:13.531975Z",
     "iopub.status.idle": "2020-11-09T17:58:50.129136Z",
     "shell.execute_reply": "2020-11-09T17:58:50.128263Z"
    },
    "pycharm": {
     "is_executing": false,
     "name": "#%% \n"
    }
   },
   "outputs": [
    {
     "data": {
      "text/plain": [
       "[<pyms.Peak.Class.Peak at 0x7efe07b3abe0>,\n",
       " <pyms.Peak.Class.Peak at 0x7efe07b3ac18>,\n",
       " <pyms.Peak.Class.Peak at 0x7efe07b3ac88>,\n",
       " <pyms.Peak.Class.Peak at 0x7efe07b3acf8>,\n",
       " <pyms.Peak.Class.Peak at 0x7efe07b3ad68>,\n",
       " <pyms.Peak.Class.Peak at 0x7efe07b3add8>,\n",
       " <pyms.Peak.Class.Peak at 0x7efe07b3ae48>,\n",
       " <pyms.Peak.Class.Peak at 0x7efe07b3aeb8>,\n",
       " <pyms.Peak.Class.Peak at 0x7efe07b3af28>,\n",
       " <pyms.Peak.Class.Peak at 0x7efe07b3af98>]"
      ]
     },
     "execution_count": 1,
     "metadata": {},
     "output_type": "execute_result"
    }
   ],
   "source": [
    "peak_list = BillerBiemann(im, points=9, scans=2)\n",
    "peak_list[:10]"
   ]
  },
  {
   "cell_type": "code",
   "execution_count": 7,
   "metadata": {
    "execution": {
     "iopub.execute_input": "2020-11-09T17:58:50.135600Z",
     "iopub.status.busy": "2020-11-09T17:58:50.134264Z",
     "iopub.status.idle": "2020-11-09T17:58:50.140541Z",
     "shell.execute_reply": "2020-11-09T17:58:50.141050Z"
    },
    "pycharm": {
     "is_executing": false,
     "name": "#%%\n"
    }
   },
   "outputs": [
    {
     "data": {
      "text/plain": [
       "3695"
      ]
     },
     "execution_count": 1,
     "metadata": {},
     "output_type": "execute_result"
    }
   ],
   "source": [
    "len(peak_list)\n"
   ]
  },
  {
   "cell_type": "markdown",
   "metadata": {
    "collapsed": false,
    "pycharm": {
     "is_executing": false,
     "name": "#%% md\n"
    }
   },
   "source": [
    "The number of detected peaks has been reduced, but there are still many more\n",
    "than would be expected from the sample. Functions to filter the peak list are\n",
    "covered in the next example.\n",
    "\n",
    "## Example: Peak List Filtering\n",
    "\n",
    "There are two functions to filter the list of Peak objects.\n",
    "\n",
    "The first, |rel_threshold()| modifies the mass spectrum stored in each peak so\n",
    "any intensity that is less than a given percentage of the maximum intensity for the peak is removed.\n",
    "\n",
    "The second, |num_ions_threshold()|, removes any peak that has less than a given\n",
    "number of ions above a given threshold.\n",
    "\n",
    "Once the peak list has been constructed, the filters can be applied as follows:"
   ]
  },
  {
   "cell_type": "code",
   "execution_count": 8,
   "metadata": {
    "execution": {
     "iopub.execute_input": "2020-11-09T17:58:50.166379Z",
     "iopub.status.busy": "2020-11-09T17:58:50.154818Z",
     "iopub.status.idle": "2020-11-09T17:58:52.441697Z",
     "shell.execute_reply": "2020-11-09T17:58:52.442162Z"
    },
    "pycharm": {
     "is_executing": false,
     "name": "#%%\n"
    }
   },
   "outputs": [
    {
     "data": {
      "text/plain": [
       "[<pyms.Peak.Class.Peak at 0x7efe1cffa630>,\n",
       " <pyms.Peak.Class.Peak at 0x7efe1cffa748>,\n",
       " <pyms.Peak.Class.Peak at 0x7efe1cffaa20>,\n",
       " <pyms.Peak.Class.Peak at 0x7efe1cffab70>,\n",
       " <pyms.Peak.Class.Peak at 0x7efe1cffac50>,\n",
       " <pyms.Peak.Class.Peak at 0x7efe1cffad68>,\n",
       " <pyms.Peak.Class.Peak at 0x7efe1cffada0>,\n",
       " <pyms.Peak.Class.Peak at 0x7efe1cffaeb8>,\n",
       " <pyms.Peak.Class.Peak at 0x7efe1cffaef0>,\n",
       " <pyms.Peak.Class.Peak at 0x7efe1cffafd0>]"
      ]
     },
     "execution_count": 1,
     "metadata": {},
     "output_type": "execute_result"
    }
   ],
   "source": [
    "from pyms.BillerBiemann import rel_threshold, num_ions_threshold\n",
    "pl = rel_threshold(peak_list, percent=2)\n",
    "pl[:10]"
   ]
  },
  {
   "cell_type": "code",
   "execution_count": 9,
   "metadata": {
    "execution": {
     "iopub.execute_input": "2020-11-09T17:58:52.497402Z",
     "iopub.status.busy": "2020-11-09T17:58:52.449755Z",
     "iopub.status.idle": "2020-11-09T17:58:54.480428Z",
     "shell.execute_reply": "2020-11-09T17:58:54.479656Z"
    },
    "pycharm": {
     "is_executing": false,
     "name": "#%%\n"
    }
   },
   "outputs": [
    {
     "data": {
      "text/plain": [
       "[<pyms.Peak.Class.Peak at 0x7efe1cffa8d0>,\n",
       " <pyms.Peak.Class.Peak at 0x7efe1cffa3c8>,\n",
       " <pyms.Peak.Class.Peak at 0x7efe1cffa550>,\n",
       " <pyms.Peak.Class.Peak at 0x7efe1cffaba8>,\n",
       " <pyms.Peak.Class.Peak at 0x7efe1498a390>,\n",
       " <pyms.Peak.Class.Peak at 0x7efe1498a400>,\n",
       " <pyms.Peak.Class.Peak at 0x7efe1498a4e0>,\n",
       " <pyms.Peak.Class.Peak at 0x7efe1498a4a8>,\n",
       " <pyms.Peak.Class.Peak at 0x7efe1498a5f8>,\n",
       " <pyms.Peak.Class.Peak at 0x7efe1498a6a0>]"
      ]
     },
     "execution_count": 1,
     "metadata": {},
     "output_type": "execute_result"
    }
   ],
   "source": [
    "new_peak_list = num_ions_threshold(pl, n=3, cutoff=10000)\n",
    "new_peak_list[:10]"
   ]
  },
  {
   "cell_type": "code",
   "execution_count": 10,
   "metadata": {
    "execution": {
     "iopub.execute_input": "2020-11-09T17:58:54.485507Z",
     "iopub.status.busy": "2020-11-09T17:58:54.484592Z",
     "iopub.status.idle": "2020-11-09T17:58:54.487763Z",
     "shell.execute_reply": "2020-11-09T17:58:54.487172Z"
    },
    "pycharm": {
     "is_executing": false,
     "name": "#%%\n"
    }
   },
   "outputs": [
    {
     "data": {
      "text/plain": [
       "146"
      ]
     },
     "execution_count": 1,
     "metadata": {},
     "output_type": "execute_result"
    }
   ],
   "source": [
    "len(new_peak_list)"
   ]
  },
  {
   "cell_type": "markdown",
   "metadata": {
    "collapsed": false,
    "pycharm": {
     "name": "#%% md\n"
    }
   },
   "source": [
    "The number of detected peaks is now more realistic of what would be expected in\n",
    "the test sample."
   ]
  }
 ],
 "metadata": {
  "kernelspec": {
   "display_name": "Python 3",
   "language": "python",
   "name": "python3"
  },
  "language_info": {
   "codemirror_mode": {
    "name": "ipython",
    "version": 3
   },
   "file_extension": ".py",
   "mimetype": "text/x-python",
   "name": "python",
   "nbconvert_exporter": "python",
   "pygments_lexer": "ipython3",
   "version": "3.6.9"
  },
  "pycharm": {
   "stem_cell": {
    "cell_type": "raw",
    "metadata": {
     "collapsed": false
    },
    "source": []
   }
  }
 },
 "nbformat": 4,
 "nbformat_minor": 0
}
