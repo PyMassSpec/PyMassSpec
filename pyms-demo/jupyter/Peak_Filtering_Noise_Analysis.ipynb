{
 "cells": [
  {
   "cell_type": "markdown",
   "metadata": {
    "collapsed": false,
    "pycharm": {
     "name": "#%% md\n"
    }
   },
   "source": [
    "# Noise analysis for peak filtering\n",
    "\n",
    "In the previous example the cutoff parameter for peak filtering was set by the\n",
    "user. This can work well for individual data files, but can cause problems when\n",
    "applied to large experiments with many individual data files. Where experimental\n",
    "conditions have changed slightly between experimental runs, the ion intensity\n",
    "over the GC-MS run may also change. This means that an inflexible cutoff value\n",
    "can work for some data files, while excluding too many, or including too many\n",
    "peaks in other files.\n",
    "\n",
    "An alternative to manually setting the value for cutoff is to use the\n",
    "|window_analyzer()| function. This function examines a Total Ion Chromatogram\n",
    "(TIC) and computes a value for the median absolute deviation in troughs between\n",
    "peaks. This gives an approximate threshold value above which false peaks from\n",
    "noise should be filtered out.\n",
    "\n",
    "First, build the Peak list as before"
   ]
  },
  {
   "cell_type": "code",
   "execution_count": null,
   "metadata": {
    "pycharm": {
     "is_executing": false,
     "name": "#%%\n"
    }
   },
   "outputs": [],
   "source": [
    "import pathlib\n",
    "data_directory = pathlib.Path(\".\").resolve().parent.parent / \"pyms-data\"\n",
    "# Change this if the data files are stored in a different location\n",
    "\n",
    "output_directory = pathlib.Path(\".\").resolve() / \"output\"\n",
    "\n",
    "from pyms.GCMS.IO.JCAMP import JCAMP_reader\n",
    "from pyms.IntensityMatrix import build_intensity_matrix\n",
    "from pyms.Noise.SavitzkyGolay import savitzky_golay\n",
    "from pyms.TopHat import tophat\n",
    "from pyms.BillerBiemann import BillerBiemann\n",
    "\n",
    "jcamp_file = data_directory / \"gc01_0812_066.jdx\"\n",
    "data = JCAMP_reader(jcamp_file)\n",
    "im = build_intensity_matrix(data)\n",
    "\n",
    "n_scan, n_mz = im.size\n",
    "\n",
    "for ii in range(n_mz):\n",
    "    ic = im.get_ic_at_index(ii)\n",
    "    ic_smooth = savitzky_golay(ic)\n",
    "    ic_bc = tophat(ic_smooth, struct=\"1.5m\")\n",
    "    im.set_ic_at_index(ii, ic_bc)\n",
    "\n",
    "peak_list = BillerBiemann(im, points=9, scans=2)"
   ]
  },
  {
   "cell_type": "markdown",
   "metadata": {
    "collapsed": false,
    "pycharm": {
     "is_executing": false,
     "name": "#%% md\n"
    }
   },
   "source": [
    "Compute the noise value."
   ]
  },
  {
   "cell_type": "code",
   "execution_count": null,
   "metadata": {
    "pycharm": {
     "is_executing": false,
     "name": "#%%\n"
    }
   },
   "outputs": [],
   "source": [
    "from pyms.Noise.Analysis import window_analyzer\n",
    "\n",
    "tic = data.tic\n",
    "\n",
    "noise_level = window_analyzer(tic)\n",
    "noise_level"
   ]
  },
  {
   "cell_type": "markdown",
   "metadata": {
    "collapsed": false,
    "pycharm": {
     "is_executing": false,
     "name": "#%% md\n"
    }
   },
   "source": [
    "Filter the Peak listusing this noise value as the cutoff.\n"
   ]
  },
  {
   "cell_type": "code",
   "execution_count": null,
   "metadata": {
    "pycharm": {
     "is_executing": false,
     "name": "#%% \n"
    }
   },
   "outputs": [],
   "source": [
    "from pyms.BillerBiemann import num_ions_threshold\n",
    "filtered_peak_list = num_ions_threshold(peak_list, n=3, cutoff=noise_level)\n",
    "filtered_peak_list[:10]"
   ]
  },
  {
   "cell_type": "code",
   "execution_count": null,
   "metadata": {
    "pycharm": {
     "is_executing": false,
     "name": "#%%\n"
    }
   },
   "outputs": [],
   "source": [
    "len(filtered_peak_list)\n"
   ]
  },
  {
   "cell_type": "markdown",
   "metadata": {
    "collapsed": false,
    "pycharm": {
     "is_executing": false,
     "name": "#%% md\n"
    }
   },
   "source": []
  }
 ],
 "metadata": {
  "kernelspec": {
   "display_name": "Python 3",
   "language": "python",
   "name": "python3"
  },
  "language_info": {
   "codemirror_mode": {
    "name": "ipython",
    "version": 2
   },
   "file_extension": ".py",
   "mimetype": "text/x-python",
   "name": "python",
   "nbconvert_exporter": "python",
   "pygments_lexer": "ipython2",
   "version": "2.7.6"
  },
  "pycharm": {
   "stem_cell": {
    "cell_type": "raw",
    "metadata": {
     "collapsed": false
    },
    "source": []
   }
  }
 },
 "nbformat": 4,
 "nbformat_minor": 0
}
